{
 "cells": [
  {
   "cell_type": "markdown",
   "id": "cabad84b",
   "metadata": {},
   "source": [
    "# DAV 5400"
   ]
  },
  {
   "cell_type": "markdown",
   "id": "a5028bae",
   "metadata": {},
   "source": [
    "# Task- 1\n",
    "\n",
    "Our first task is to read the file again and extract these six attributes from each line of the file and create six distinct Python list objects (one for each of the six attributes) comprised solely of the values you extracted for a given attribute. In other words, you should have separate lists for diagnosis, age, gender, etc. For example, the first five \"chest pain type\" values should be as follows:\n",
    "\n",
    "['TYPICAL_ANGINA', 'ASYMPTOMATIC', 'ASYMPTOMATIC', 'NON_ANGINAL', 'ATYPICAL_ANGINA']"
   ]
  },
  {
   "cell_type": "code",
   "execution_count": 24,
   "id": "5824fbf7",
   "metadata": {},
   "outputs": [
    {
     "name": "stdout",
     "output_type": "stream",
     "text": [
      "Diagnosis List: ['FALSE', 'TRUE', 'TRUE', 'FALSE', 'FALSE']\n",
      "Age List: [63, 67, 67, 37, 41]\n",
      "Gender List: ['MALE', 'MALE', 'MALE', 'MALE', 'FEMALE']\n",
      "Chest Pain Type List: ['TYPICAL_ANGINA', 'ASYMPTOMATIC', 'ASYMPTOMATIC', 'NON_ANGINAL', 'ATYPICAL_ANGINA']\n",
      "Blood Pressure List: [145, 160, 120, 130, 130]\n",
      "Cholesterol List: [233, 286, 229, 250, 204]\n"
     ]
    }
   ],
   "source": [
    "import csv\n",
    "\n",
    "# Open and read a .txt file containing data.\n",
    "with open('D:\\M1_Data.txt') as csvfile:\n",
    "    readCSV = csv.reader(csvfile)\n",
    "    \n",
    "    # Initialize empty lists for each attribute (e.g., diagnosis, age, gender)\n",
    "    Diagnosis=[]\n",
    "    Age=[]\n",
    "    Gender=[]\n",
    "    Chest_Pain=[]\n",
    "    Blood_Pressure=[]\n",
    "    Cholestrol=[]\n",
    "    for row in readCSV:\n",
    "        \n",
    "        # Check if the values in the 'Age', 'Blood Pressure', and 'Cholesterol' columns can be converted to integers\n",
    "        if row[1].isdigit() and row[4].isdigit() and row[5].isdigit():\n",
    "            \n",
    "            #  Append attributes to their respective lists.  \n",
    "            Diagnosis.append(row[0])\n",
    "            Age.append(int(row[1]))\n",
    "            Gender.append(row[2])\n",
    "            Chest_Pain.append(row[3])\n",
    "            Blood_Pressure.append(int(row[4]))\n",
    "            Cholestrol.append(int(row[5]))\n",
    "            \n",
    "# The lists are printed to verify the extraction and conversion of the data.\n",
    "print(\"Diagnosis List:\", Diagnosis[:5])\n",
    "print(\"Age List:\", Age[:5])\n",
    "print(\"Gender List:\", Gender[:5])\n",
    "print(\"Chest Pain Type List:\", Chest_Pain[:5])\n",
    "print(\"Blood Pressure List:\", Blood_Pressure[:5])\n",
    "print(\"Cholesterol List:\", Cholestrol[:5])"
   ]
  },
  {
   "cell_type": "markdown",
   "id": "3caae1a9",
   "metadata": {},
   "source": [
    "# Task - 2\n",
    "\n",
    "Your second task entails using the updated Blood Pressure list to find the list index values of each hospital patient having a “blood pressure” reading that is greater than 140. Create a new list object with your result. HINT:you can accomplish this task by searching the list of blood pressure values you created as part of the first task. Be sure to print your result."
   ]
  },
  {
   "cell_type": "code",
   "execution_count": 25,
   "id": "3f9df6ce",
   "metadata": {},
   "outputs": [
    {
     "name": "stdout",
     "output_type": "stream",
     "text": [
      "Blood Pressure Greater then 140: [145, 160, 172, 150, 150, 150, 150, 150, 150]\n",
      "The list index values of each hospital patient having a “blood pressure” reading that is greater than 140: [0, 1, 2, 3, 4, 5, 6, 7, 8]\n"
     ]
    }
   ],
   "source": [
    "# Creating a new list 'BloodPressure_Greater_140', If the Blood_Pressure value is greater than 140, the index (i) is added to the 'BloodPressure_Greater_140' list.\n",
    "BloodPressure_Greater_140=[i for i in Blood_Pressure if i > 140]\n",
    "\n",
    "# This step involves printing the BloodPressure_Greater_140 list to the console. This list contains the indices of all patients in the Blood_Pressure list with a 'BloodPressure_Greater_140' reading greater than 140.\n",
    "print(\"Blood Pressure Greater then 140:\", BloodPressure_Greater_140)\n",
    "\n",
    "# Create a new list to store indexes of patients whose BloodPressure is greater then 140\n",
    "BloodPressure_greater140_list2=[]\n",
    "\n",
    "# Looping till the length of BloodPressure_Greater_140 list\n",
    "for h in range(len(BloodPressure_Greater_140)):\n",
    "    \n",
    "    # If BloodPressure>140 the index should be stored in new list i.e 'BloodPressure_greater140'\n",
    "    if BloodPressure[h]>140:\n",
    "        BloodPressure_greater140_list2.append(h)\n",
    "        \n",
    "print('The list index values of each hospital patient having a “blood pressure” reading that is greater than 140:', BloodPressure_greater140_list2)\n",
    "        "
   ]
  },
  {
   "cell_type": "markdown",
   "id": "63f9c0f9",
   "metadata": {},
   "source": [
    "# Task- 3\n",
    "\n",
    "Your third task is to find the \"pain type\" value for each hospital patient having a \"blood pressure\" value that is greater than 140. Create a new list to store your findings and be sure to print your result."
   ]
  },
  {
   "cell_type": "code",
   "execution_count": 26,
   "id": "191d579c",
   "metadata": {
    "scrolled": true
   },
   "outputs": [
    {
     "name": "stdout",
     "output_type": "stream",
     "text": [
      "Chest Pain Type: ['TYPICAL_ANGINA', 'ASYMPTOMATIC', 'NON_ANGINAL', 'NON_ANGINAL', 'TYPICAL_ANGINA', 'TYPICAL_ANGINA', 'ASYMPTOMATIC', 'ASYMPTOMATIC', 'NON_ANGINAL']\n"
     ]
    }
   ],
   "source": [
    "# Initialize an empty list to store the 'pain_type_list' values of the patients with 'Blood_Pressure' greater than 140.\n",
    "pain_type_list=[]\n",
    "\n",
    "# Looping till the length of Blood_Pressure list\n",
    "for x in range(len(Blood_Pressure)):\n",
    "    \n",
    "    # If BloodPressure>140 fom Blood_Pressure list then append attribute from Chest_Pain list corresponding to that indexes\n",
    "    if Blood_Pressure[x]>140:\n",
    "        \n",
    "        # Append indexes in new list 'pain_type_list' where condition is matched\n",
    "        pain_type_list.append(Chest_Pain[x])\n",
    "        \n",
    "# The lists are printed to verify the extraction of the data.     \n",
    "print('Chest Pain Type:', pain_type_list)"
   ]
  },
  {
   "cell_type": "markdown",
   "id": "aeab2f19",
   "metadata": {},
   "source": [
    "# Task - 4\n",
    "\n",
    "Your fourth task is to find the index value for each hospital patient having a “gender” value of \"FEMALE\" and a “pain type” value that is not \"ASYMPTOMATIC\". Create a new list to store your findings and be sure to print your results."
   ]
  },
  {
   "cell_type": "code",
   "execution_count": 34,
   "id": "684ed594",
   "metadata": {},
   "outputs": [
    {
     "name": "stdout",
     "output_type": "stream",
     "text": [
      "Index value for each hospital patient having a “gender” value of \"FEMALE\" and a “pain type” value that is not \"ASYMPTOMATIC: [4, 11, 18, 21, 25, 26, 27, 30]\n"
     ]
    }
   ],
   "source": [
    "# Create a new list to store indexes of patient having a “gender” value of \"FEMALE\" and a “pain type” value that is not \"ASYMPTOMATIC\"\n",
    "female_not_Asymp=[]\n",
    "\n",
    "for b in range(len(Gender)):\n",
    "    \n",
    "    # Running condition where patient is having a “gender” value of \"FEMALE\" and a “pain type” value that is not \"ASYMPTOMATIC\"\n",
    "    if Gender[b]=='FEMALE' and Chest_Pain[b]!='ASYMPTOMATIC':\n",
    "        \n",
    "        # Append indexes in new list 'female_not_Asymp' where condition is matched\n",
    "        female_not_Asymp.append(b)\n",
    "\n",
    "# The lists are printed to verify the extraction of the data.\n",
    "print('Index value for each hospital patient having a “gender” value of \"FEMALE\" and a “pain type” value that is not \"ASYMPTOMATIC:', female_not_Asymp)"
   ]
  },
  {
   "cell_type": "markdown",
   "id": "8bf18185",
   "metadata": {},
   "source": [
    "# Task - 5\n",
    "\n",
    "Your fifth task is to find the index value for each hospital patient having an ‘age’ value of less than 56 and a “diagnosis” value of \"TRUE\". Create a new list to store your findings and be sure to print your result."
   ]
  },
  {
   "cell_type": "code",
   "execution_count": 35,
   "id": "b8cc95e1",
   "metadata": {},
   "outputs": [
    {
     "name": "stdout",
     "output_type": "stream",
     "text": [
      "Index value for each hospital patient having an ‘age’ value of less than 56 and a “diagnosis” value of \"TRUE\": [9, 16, 29, 36, 38]\n"
     ]
    }
   ],
   "source": [
    "# Create a new list to store indexes for each hospital patient having an ‘age’ value of less than 56 and a “diagnosis” value of \"TRUE\"\n",
    "Diagnosis_Age=[]\n",
    "\n",
    "for q in range(len(Age)):\n",
    "    \n",
    "    # Running condition where patient having an ‘age’ value of less than 56 and a “diagnosis” value of \"TRUE\"\n",
    "    if Age[q]<56 and Diagnosis[q]=='TRUE':\n",
    "        \n",
    "        # Append indexes in new list 'Diagnosis_Age' where condition is matched\n",
    "        Diagnosis_Age.append(q)\n",
    "\n",
    "# The lists are printed to verify the extraction of the data.\n",
    "print('Index value for each hospital patient having an ‘age’ value of less than 56 and a “diagnosis” value of \"TRUE\":', Diagnosis_Age)"
   ]
  },
  {
   "cell_type": "markdown",
   "id": "8f57780c",
   "metadata": {},
   "source": [
    "# Task - 6\n",
    "\n",
    "Finally, calculate the average age, the median blood pressure reading, and the standard deviation of the cholesterol readings using whichever of Python's built in functions you require. Print your results."
   ]
  },
  {
   "cell_type": "code",
   "execution_count": 36,
   "id": "71dfcea8",
   "metadata": {},
   "outputs": [
    {
     "name": "stdout",
     "output_type": "stream",
     "text": [
      "Average sge of all patients:  54.9\n",
      "Median of the Blood Pressure readings are:  131\n",
      "Standard Deviation of the cholestrol readings are:  45.239356483044716\n"
     ]
    }
   ],
   "source": [
    "# Average of age\n",
    "print('Average sge of all patients: ', sum(Age)/len(Age))\n",
    "\n",
    "# Need to import Statistics Library to use mathmatics in built functions (eg:- Median, Standard Deviation)\n",
    "import statistics\n",
    "\n",
    "# Median of Blood Pressure\n",
    "print('Median of the Blood Pressure readings are: ', int(statistics.median(Blood_Pressure)))\n",
    "\n",
    "# Standard Deviation of Cholestrol\n",
    "print('Standard Deviation of the cholestrol readings are: ', statistics.pstdev(Cholestrol))"
   ]
  },
  {
   "cell_type": "code",
   "execution_count": null,
   "id": "1c8119db",
   "metadata": {},
   "outputs": [],
   "source": []
  },
  {
   "cell_type": "code",
   "execution_count": null,
   "id": "af5a199d",
   "metadata": {},
   "outputs": [],
   "source": []
  }
 ],
 "metadata": {
  "kernelspec": {
   "display_name": "Python 3 (ipykernel)",
   "language": "python",
   "name": "python3"
  },
  "language_info": {
   "codemirror_mode": {
    "name": "ipython",
    "version": 3
   },
   "file_extension": ".py",
   "mimetype": "text/x-python",
   "name": "python",
   "nbconvert_exporter": "python",
   "pygments_lexer": "ipython3",
   "version": "3.11.5"
  }
 },
 "nbformat": 4,
 "nbformat_minor": 5
}
