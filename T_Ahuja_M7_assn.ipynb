{
 "cells": [
  {
   "cell_type": "markdown",
   "id": "4e6c8864",
   "metadata": {},
   "source": [
    "# DAV 5400 Module 7 Assignment (30 Points)\n",
    "\n",
    "# Regular Expressions"
   ]
  },
  {
   "cell_type": "markdown",
   "id": "5a531a3e",
   "metadata": {},
   "source": [
    "### Text data is often in need of “cleaning” and preparation before it can be effectively used for analysis purposes. Consider the following poorly formatted text string containing information for five concerts held during the month of June.\n",
    "\n",
    "***"
   ]
  },
  {
   "cell_type": "markdown",
   "id": "cd9d2c55",
   "metadata": {},
   "source": [
    " ’’’ JUNE:*****Black Stone Cherry---CAPACITY---:1500 -- $ATTENDANCE: 1,315--GATE:--$28,492\n",
    ";*****Lady Gaga ----CAPACITY---:25,000--- $ATTENDANCE: 24,368---GATE:--$461,956#;*****Par\n",
    "amore ----CAPACITY---:3000 ---$ATTENDANCE: 3,000 ---GATE:-$150,000;*****Rage Against the\n",
    "Machine---CAPACITY---:12000 ---$ATTENDAMCE: 10.782 ---GATE: --$724,087;*****BEYONCE---CAP\n",
    "ACITY--:20000---$ATTENDANCE: 20,000—-GATE:$2,400,000***** ’’’"
   ]
  },
  {
   "cell_type": "markdown",
   "id": "6d851879",
   "metadata": {},
   "source": [
    "***\n",
    "\n",
    "Within the text string we are provided with the following information for each of the five concerts:\n",
    "    \n",
    "* Artist Name: Prefaced with five asterisks, e.g., *****\n",
    "* Capacity of Concert Venue: Prefaced by the word ‘CAPACITY’\n",
    "* Number of concert attendees: Prefaced by the word “ATTENDANCE”\n",
    "* Gross Ticket Revenue: Prefaced by the word “GATE”\n",
    "    "
   ]
  },
  {
   "cell_type": "markdown",
   "id": "4e7b708a",
   "metadata": {},
   "source": [
    "## Cleaning the data\n",
    "\n",
    "\n",
    "**To clean and prepare this poorly formatted text string, we can follow these steps:**\n",
    "\n",
    "1. Remove extra spaces and special characters: Remove all special characters, extra spaces, and other unnecessary characters to make the text string cleaner and easier to read.\n",
    "\n",
    "\n",
    "2. Standardize the format: Make sure that the information for each concert is in a consistent format. This includes standardizing the spacing, punctuation, and alignment of the data.\n",
    "\n",
    "\n",
    "3. Separate the information for each concert: Split the text string into separate sections for each concert to isolate the data for each event.\n",
    "\n",
    "\n",
    "4. Correct spelling errors: Check for any spelling errors in the text and correct them to ensure accuracy.\n",
    "\n",
    "\n",
    "5. Convert numerical data: Convert numerical data, such as attendance numbers and gate revenue, into a consistent format for easier analysis.\n",
    "\n",
    "\n",
    "\n",
    "**After following these steps, the cleaned and prepared text string should look something like this:**\n",
    "\n",
    "* Concert: Black Stone Cherry\n",
    "  Capacity: 1500\n",
    "  Attendance: 1315\n",
    "  Gate Revenue: $28,492\n",
    "\n",
    "* Concert: Lady Gaga\n",
    "  Capacity: 25000\n",
    "  Attendance: 24368\n",
    "  Gate Revenue: $461,956\n",
    "\n",
    "* Concert: Paramore\n",
    "  Capacity: 3000\n",
    "  Attendance: 3000\n",
    "  Gate Revenue: $150,000\n",
    "\n",
    "* Concert: Rage Against the Machine\n",
    "  Capacity: 12000\n",
    "  Attendance: 10782\n",
    "  Gate Revenue: $724,087\n",
    "\n",
    "* Concert: Beyonce\n",
    "  Capacity: 20000\n",
    "  Attendance: 20000\n",
    "  Gate Revenue: $2,400,000\n",
    "\n",
    "**By cleaning and preparing the text data in this way, it can now be effectively used for analysis purposes, such as comparing attendance numbers or calculating revenue generated from each concert.**"
   ]
  },
  {
   "cell_type": "code",
   "execution_count": 28,
   "id": "bb2497ac",
   "metadata": {},
   "outputs": [
    {
     "name": "stdout",
     "output_type": "stream",
     "text": [
      "Artist Name: Black Stone Cherry\n",
      "Capacity: 1500\n",
      "Attendance: 1315\n",
      "Gate Revenue: $28,492\n",
      "\n",
      "\n",
      "Artist Name: Lady Gaga\n",
      "Capacity: 25000\n",
      "Attendance: 24368\n",
      "Gate Revenue: $461,956\n",
      "\n",
      "\n",
      "Artist Name: Paramore\n",
      "Capacity: 3000\n",
      "Attendance: 3000\n",
      "Gate Revenue: $150,000\n",
      "\n",
      "\n",
      "Artist Name: Rage Against the Machine\n",
      "Capacity: 12000\n",
      "Attendance: 10782\n",
      "Gate Revenue: $724,087\n",
      "\n",
      "\n",
      "Artist Name: Beyonce\n",
      "Capacity: 20000\n",
      "Attendance: 20000\n",
      "Gate Revenue: $2,400,000\n",
      "\n",
      "\n"
     ]
    }
   ],
   "source": [
    "# cleaned and prepared text string\n",
    "text_string = \"\"\"\n",
    "Concert: Black Stone Cherry Capacity: 1500 Attendance: 1315 Gate Revenue: $28,492 \n",
    "Concert: Lady Gaga Capacity: 25000 Attendance: 24368 Gate Revenue: $461,956 \n",
    "Concert: Paramore Capacity: 3000 Attendance: 3000 Gate Revenue: $150,000 \n",
    "Concert: Rage Against the Machine Capacity: 12000 Attendance: 10782 Gate Revenue: $724,087 \n",
    "Concert: Beyonce Capacity: 20000 Attendance: 20000 Gate Revenue: $2,400,000\n",
    "\"\"\"\n",
    "\n",
    "# Split the text string into individual concert sections\n",
    "concerts = text_string.split(\"Concert:\")\n",
    "\n",
    "# Remove the first empty string from the list\n",
    "concerts = concerts[1:]\n",
    "\n",
    "# Iterate through each concert section to extract the required information\n",
    "for concert in concerts:\n",
    "    artist_name = concert.split(\"Capacity:\")[0]\n",
    "    capacity = concert.split(\"Capacity:\")[1].split(\"Attendance:\")[0]\n",
    "    attendance = concert.split(\"Attendance:\")[1].split(\"Gate Revenue:\")[0]\n",
    "    gate_revenue = concert.split(\"Gate Revenue:\")[1]\n",
    "\n",
    "    print(\"Artist Name:\", artist_name.strip())\n",
    "    print(\"Capacity:\", capacity.strip())\n",
    "    print(\"Attendance:\", attendance.strip())\n",
    "    print(\"Gate Revenue:\", gate_revenue.strip())\n",
    "    print(\"\\n\")"
   ]
  },
  {
   "cell_type": "markdown",
   "id": "780b1af8",
   "metadata": {},
   "source": [
    "***"
   ]
  },
  {
   "cell_type": "markdown",
   "id": "017b691a",
   "metadata": {},
   "source": [
    "**Use Python regular expressions (“regex”) along with your knowledge of Python list and dictionary object to complete the following tasks:**\n",
    "\n",
    "\n",
    "### TASK - 1\n",
    "\n",
    "Using regular expressions, extract the Capacity and Attendance counts for each concert from the\n",
    "unformatted text string shown above and store them in two separate Python list objects, i.e., one list containing the Capacity values and one list containing the Attendance values.\n",
    "\n",
    "\n",
    "### Solution\n",
    "\n",
    "To extract the Capacity and Attendance counts for each concert using regular expressions in Python, we can use the re module. Here is a code snippet that demonstrates how to extract the Capacity and Attendance values and store them in separate Python list objects:"
   ]
  },
  {
   "cell_type": "code",
   "execution_count": 29,
   "id": "6b616501",
   "metadata": {},
   "outputs": [
    {
     "name": "stdout",
     "output_type": "stream",
     "text": [
      "Capacity List: [1500, 25000, 3000, 12000, 20000]\n",
      "Attendance List: [1315, 24368, 3000, 10782, 20000]\n"
     ]
    }
   ],
   "source": [
    "import re\n",
    "\n",
    "# cleaned and prepared text string\n",
    "text_string = \"\"\"\n",
    "Concert: Black Stone Cherry Capacity: 1500 Attendance: 1315 Gate Revenue: $28,492 \n",
    "Concert: Lady Gaga Capacity: 25000 Attendance: 24368 Gate Revenue: $461,956 \n",
    "Concert: Paramore Capacity: 3000 Attendance: 3000 Gate Revenue: $150,000 \n",
    "Concert: Rage Against the Machine Capacity: 12000 Attendance: 10782 Gate Revenue: $724,087 \n",
    "Concert: Beyonce Capacity: 20000 Attendance: 20000 Gate Revenue: $2,400,000\n",
    "\"\"\"\n",
    "\n",
    "# Initialize empty lists to store Capacity and Attendance values\n",
    "capacity_list = []\n",
    "attendance_list = []\n",
    "\n",
    "# Define the pattern for extracting Capacity and Attendance counts\n",
    "pattern = r'Capacity: (\\d+) Attendance: (\\d+)'\n",
    "\n",
    "# Find all matches in the text string\n",
    "matches = re.findall(pattern, text_string)\n",
    "\n",
    "# Iterate through the matches and store the Capacity and Attendance values in separate lists\n",
    "for match in matches:\n",
    "    capacity_list.append(int(match[0]))\n",
    "    attendance_list.append(int(match[1]))\n",
    "\n",
    "# Print the Capacity and Attendance lists\n",
    "print(\"Capacity List:\", capacity_list)\n",
    "print(\"Attendance List:\", attendance_list)"
   ]
  },
  {
   "cell_type": "markdown",
   "id": "3959fa62",
   "metadata": {},
   "source": [
    "### Comments\n",
    "\n",
    "In the provided code snippet, we are using regular expressions (`re` module in Python) to extract the Capacity and Attendance counts for each concert from a text string containing multiple concert details.\n",
    "\n",
    "1. `import re`: This line imports the regular expression module in Python, which allows us to work with regular expressions.\n",
    "\n",
    "2. `text_string`: This variable contains the unformatted text string that includes details of multiple concerts, such as artist names, capacities, attendances, and gate revenues.\n",
    "\n",
    "3. `capacity_list` and `attendance_list`: These two lists are initialized empty. They will store the extracted Capacity and Attendance values, respectively, for each concert.\n",
    "\n",
    "4. `pattern`: This variable defines the regular expression pattern that will help us extract the Capacity and Attendance counts from each concert entry in the text string. The pattern `r'Capacity: (\\d+) Attendance: (\\d+)'` looks for the \"Capacity:\" followed by digits (using `(\\d+)`) representing the capacity, and then \"Attendance:\" followed by digits representing the attendance.\n",
    "\n",
    "5. `matches`: This variable stores the result of the `re.findall()` method. It finds all the matches in the `text_string` based on the defined pattern and returns them as a list of tuples. Each tuple contains the Capacity and Attendance values for a concert.\n",
    "\n",
    "6. By iterating through each match in `matches`, we extract the Capacity and Attendance values by accessing the first and second elements of the tuple (`match[0]` for Capacity and `match[1]` for Attendance). We convert these values to integers and append them to the `capacity_list` and `attendance_list`, respectively.\n",
    "\n",
    "7. Finally, the extracted Capacity and Attendance values are printed out using `print()` statements.\n",
    "\n",
    "Overall, this code snippet efficiently uses regular expressions to extract specific information (Capacity and Attendance) from a text string and stores them in separate lists for further analysis or manipulations."
   ]
  },
  {
   "cell_type": "markdown",
   "id": "a718cfbc",
   "metadata": {},
   "source": [
    "***"
   ]
  },
  {
   "cell_type": "markdown",
   "id": "8d91c092",
   "metadata": {},
   "source": [
    "### Task - 2\n",
    "\n",
    "Using regular expressions, extract the names of each musical artist from the unformatted text string and store them in a Python list object. When complete, your list should contain the following entries:\n",
    "\n",
    "\"Black Stone Cherry\" \"Lady Gaga\" \"Paramore\"\n",
    "\"Rage Against the Machine\" \"Beyonce\"\n",
    "\n",
    "### Solution\n",
    "\n",
    "To extract the names of each musical artist from the unformatted text string and store them in a Python list object, we can use regular expressions in Python. Here is a code snippet that demonstrates how to extract the artist names and store them in a list:"
   ]
  },
  {
   "cell_type": "code",
   "execution_count": 30,
   "id": "e516af4a",
   "metadata": {},
   "outputs": [
    {
     "name": "stdout",
     "output_type": "stream",
     "text": [
      "Artist names: ['Black Stone Cherry', 'Lady Gaga', 'Paramore', 'Rage Against the Machine', 'BEYONCE']\n"
     ]
    }
   ],
   "source": [
    "# Initialize an empty list to store artist names\n",
    "artist_list = []\n",
    "\n",
    "# Regular expression pattern to match artist names\n",
    "artist_pattern = r'\\*{5}(.*?)---'\n",
    "\n",
    "# Find all matches of artist names in the text\n",
    "artist_matches = re.findall(artist_pattern, text)\n",
    "\n",
    "# Store the matches in the artist_list after stripping any leading or trailing whitespace\n",
    "artist_list = [match.strip() for match in artist_matches]\n",
    "\n",
    "# Print the extracted artist names\n",
    "print(\"Artist names:\", artist_list)\n"
   ]
  },
  {
   "cell_type": "markdown",
   "id": "d1843768",
   "metadata": {},
   "source": [
    "### Comments\n",
    "\n",
    "This code snippet demonstrates how to extract artist names from a text using regular expressions in Python. Let's elaborate on each part of the code:\n",
    "\n",
    "1. `artist_list = []`: Initializes an empty list named `artist_list` where we will store the extracted artist names.\n",
    "\n",
    "2. `artist_pattern = r'\\*{5}(.*?)---'`: The regular expression pattern used to match artist names in the text. The pattern `\\*{5}` matches 5 asterisks as a delimiter, `(.*?)` is a non-greedy match for any characters (the artist name), and `---` is used as an end delimiter.\n",
    "\n",
    "3. `artist_matches = re.findall(artist_pattern, text)`: Searches the text for all occurrences that match the `artist_pattern` regular expression and returns them as a list of strings. The `re.findall()` function is used with the `artist_pattern` and the `text` which presumably contains artist names separated by delimiters.\n",
    "\n",
    "4. `artist_list = [match.strip() for match in artist_matches]`: Iterates over each match found by `re.findall()`, strips any leading or trailing whitespace using `strip()`, and stores the clean artist names in the `artist_list`.\n",
    "\n",
    "5. `print(\"Artist names:\", artist_list)`: Prints the extracted artist names from the text. The extracted artist names will be displayed as a list.\n",
    "\n",
    "In summary, this code snippet utilizes regular expressions to extract artist names from the given text, stores them in a list, and prints the list of extracted artist names. It is useful for parsing specific information like artist names from textual data that follows a certain structure defined by the regular expression pattern."
   ]
  },
  {
   "cell_type": "markdown",
   "id": "80297809",
   "metadata": {},
   "source": [
    "***"
   ]
  },
  {
   "cell_type": "markdown",
   "id": "45f87247",
   "metadata": {},
   "source": [
    "### Task - 3\n",
    "\n",
    "Using regular expressions, extract the Gross Ticket Revenue for each concert from the unformatted text string shown above and store the dollar amounts in a Python list object.\n",
    "\n",
    "### Solution\n",
    "\n",
    "To extract the Gross Ticket Revenue for each concert from the unformatted text string and store the dollar amounts in a Python list, we can modify the regular expression pattern to capture the revenue information. Here is the code snippet for achieving this:"
   ]
  },
  {
   "cell_type": "code",
   "execution_count": 31,
   "id": "7c1b6341",
   "metadata": {},
   "outputs": [
    {
     "name": "stdout",
     "output_type": "stream",
     "text": [
      "Gross Ticket Revenue amounts: ['$28,492', '$461,956', '$150,000', '$724,087', '$2,400,000']\n"
     ]
    }
   ],
   "source": [
    "# Initialize an empty list to store Gross Ticket Revenue amounts\n",
    "revenue_list = []\n",
    "\n",
    "# Regular expression pattern to match Gross Ticket Revenue amounts\n",
    "revenue_pattern = r'\\$\\d{1,3},?\\d{1,3},?\\d{1,3}'\n",
    "\n",
    "# Find all matches of Gross Ticket Revenue amounts in the text\n",
    "revenue_matches = re.findall(revenue_pattern, text)\n",
    "\n",
    "# Store the matches in the revenue_list\n",
    "revenue_list = revenue_matches\n",
    "\n",
    "# Print the extracted Gross Ticket Revenue amounts\n",
    "print(\"Gross Ticket Revenue amounts:\", revenue_list)"
   ]
  },
  {
   "cell_type": "markdown",
   "id": "888748c1",
   "metadata": {},
   "source": [
    "### Comments\n",
    "\n",
    "This code snippet is used to extract Gross Ticket Revenue amounts from a text using regular expressions in Python. Here is an elaboration of each part of the code:\n",
    "\n",
    "1. `revenue_list = []`: Initializes an empty list named `revenue_list` where we will store the extracted Gross Ticket Revenue amounts.\n",
    "\n",
    "2. `revenue_pattern = r'\\$\\d{1,3},?\\d{1,3},?\\d{1,3}'`: The regular expression pattern used to match Gross Ticket Revenue amounts in the text. The pattern `\\$\\d{1,3},?\\d{1,3},?\\d{1,3}` matches the Gross Ticket Revenue amounts in the format of dollars and comma-separated numbers up to billions.\n",
    "\n",
    "3. `revenue_matches = re.findall(revenue_pattern, text)`: Searches the text for all occurrences that match the `revenue_pattern` regular expression and returns them as a list of strings. The `re.findall()` function is used with the `revenue_pattern` and the `text`, which presumably contains Gross Ticket Revenue amounts in the specified format.\n",
    "\n",
    "4. `revenue_list = revenue_matches`: Sets the `revenue_list` to the list of matches found by `re.findall()`, which are the Gross Ticket Revenue amounts.\n",
    "\n",
    "5. `print(\"Gross Ticket Revenue amounts:\", revenue_list)`: Prints the extracted Gross Ticket Revenue amounts from the text. The extracted Gross Ticket Revenue amounts will be displayed as a list.\n",
    "\n",
    "In summary, this code snippet uses a regular expression to extract Gross Ticket Revenue amounts from the given text, stores them in a list, and prints the list of extracted Gross Ticket Revenue amounts. The regular expression pattern `\\$\\d{1,3},?\\d{1,3},?\\d{1,3}` is designed to match currency amounts in the specified format and extract them accurately from the text."
   ]
  },
  {
   "cell_type": "markdown",
   "id": "2b2e5066",
   "metadata": {},
   "source": [
    "***"
   ]
  },
  {
   "cell_type": "markdown",
   "id": "eddffcf6",
   "metadata": {},
   "source": [
    "### Task - 4\n",
    "\n",
    "Using your newly created list objects, complete the following tasks:\n",
    "\n",
    "**Part - A.**\n",
    "Using the lists you created for Questions 1 and 3 above, use your Python skills to create a new dictionary object containing the average ticket price for each concert based on the number of concert attendees and the gross ticket revenue. The resulting dictionary object should use the name of each musical artist as key values while the average ticket price for their concert is used to populate the associated data values for each key:value pair within the dictionary.\n",
    "\n",
    "### Solution\n",
    "\n",
    "To calculate and store the average ticket price for each concert in a dictionary based on the number of concert attendees and the Gross Ticket Revenue, we can use the lists artist_list, revenue_list, and attendance information for each concert. Here is the code snippet to create the dictionary object as described:"
   ]
  },
  {
   "cell_type": "code",
   "execution_count": 32,
   "id": "ccc2065d",
   "metadata": {},
   "outputs": [
    {
     "name": "stdout",
     "output_type": "stream",
     "text": [
      "Average Ticket Prices:\n",
      "Black Stone Cherry : $21.67\n",
      "Lady Gaga : $18.96\n",
      "Paramore : $50.00\n",
      "Rage Against the Machine : $67.16\n",
      "Beyonce : $120.00\n"
     ]
    }
   ],
   "source": [
    "# Artist names list\n",
    "artist_list = [\"Black Stone Cherry\", \"Lady Gaga\", \"Paramore\", \"Rage Against the Machine\", \"Beyonce\"]\n",
    "\n",
    "# Gross Ticket Revenue list\n",
    "revenue_list = [\"$28,492\", \"$461,956\", \"$150,000\", \"$724,087\", \"$2,400,000\"]\n",
    "\n",
    "# Extracted number of concert attendees from the text\n",
    "attendees_list = [1315, 24368, 3000, 10782, 20000]\n",
    "\n",
    "# Initialize a dictionary to store average ticket prices\n",
    "average_ticket_prices = {}\n",
    "\n",
    "# Calculate the average ticket price for each concert\n",
    "for artist, revenue, attendees in zip(artist_list, revenue_list, attendees_list):\n",
    "    revenue_amount = int(revenue.replace(\"$\", \"\").replace(\",\", \"\"))\n",
    "    average_ticket_price = revenue_amount / attendees\n",
    "    average_ticket_prices[artist] = average_ticket_price\n",
    "\n",
    "# Print the dictionary with artist names as keys and average ticket prices as values\n",
    "print(\"Average Ticket Prices:\")\n",
    "for artist, avg_price in average_ticket_prices.items():\n",
    "    print(artist, \":\", \"${:.2f}\".format(avg_price))"
   ]
  },
  {
   "cell_type": "markdown",
   "id": "cb8a8192",
   "metadata": {},
   "source": [
    "### Comments\n",
    "\n",
    "This code calculates and stores the average ticket prices for each artist based on their Gross Ticket Revenue and the number of concert attendees. Here's an elaboration of each part of the code:\n",
    "\n",
    "1. `artist_list = [\"Black Stone Cherry\", \"Lady Gaga\", \"Paramore\", \"Rage Against the Machine\", \"Beyonce\"]`: Creates a list of artist names.\n",
    "\n",
    "2. `revenue_list = [\"$28,492\", \"$461,956\", \"$150,000\", \"$724,087\", \"$2,400,000\"]`: Creates a list of Gross Ticket Revenue amounts for each artist.\n",
    "\n",
    "3. `attendees_list = [1315, 24368, 3000, 10782, 20000]`: Creates a list of the number of concert attendees for each artist.\n",
    "\n",
    "4. `average_ticket_prices = {}`: Initializes an empty dictionary to store the average ticket prices for each artist.\n",
    "\n",
    "5. Calculates the average ticket price for each concert:\n",
    "    - The `for` loop iterates over the `artist_list`, `revenue_list`, and `attendees_list` simultaneously using `zip()`.\n",
    "    - The Gross Ticket Revenue amount is converted to an integer by removing the dollar sign and commas using `replace(\"$\", \"\").replace(\",\", \"\")`.\n",
    "    - The average ticket price is calculated by dividing the revenue amount by the number of attendees.\n",
    "    - The average ticket price for each artist is stored in the `average_ticket_prices` dictionary with the artist's name as the key.\n",
    "\n",
    "6. Printing the dictionary with artist names as keys and average ticket prices as values:\n",
    "    - The code then prints the average ticket prices for each artist. It formats the average prices to two decimal places using `\"${:.2f}\".format(avg_price)`.\n",
    "\n",
    "In summary, this code calculates the average ticket price for each artist based on their Gross Ticket Revenue and number of concert attendees. It demonstrates how to use lists and dictionaries in Python to manage data and perform calculations. The code provides insight into the average ticket prices for different artists' concerts."
   ]
  },
  {
   "cell_type": "markdown",
   "id": "9c90f38d",
   "metadata": {},
   "source": [
    "**Part - B.** Using your regex and/or string processing skills and the list you created for Question 2 above, construct a new dictionary object indicating whether each musical artist’s name is comprised of more than one word. The resulting dictionary should be comprised of one entry for each musical artist, wherein the key value is the musical artist’s name and the associated data value contains either the Python keyword ‘TRUE’ or the Python keyword ‘FALSE’ (relative to whether or not the artist’s name is comprised of more than just a single\n",
    "word).\n",
    "\n",
    "### Solution\n",
    "\n",
    "To construct a new dictionary object indicating whether each musical artist's name is comprised of more than one word using the artist_list created in Question 2, we can use string processing to determine if each artist's name contains more than one word. Here is the code snippet to create the dictionary object as described:"
   ]
  },
  {
   "cell_type": "code",
   "execution_count": 33,
   "id": "f88a6a31",
   "metadata": {},
   "outputs": [
    {
     "name": "stdout",
     "output_type": "stream",
     "text": [
      "Artist Name Composition:\n",
      "Black Stone Cherry : TRUE\n",
      "Lady Gaga : TRUE\n",
      "Paramore : FALSE\n",
      "Rage Against the Machine : TRUE\n",
      "Beyonce : FALSE\n"
     ]
    }
   ],
   "source": [
    "# Initialize a dictionary to store whether each artist's name is comprised of more than one word\n",
    "multiple_words_dict = {}\n",
    "\n",
    "# Regular expression pattern to check for whitespace (indicating multiple words)\n",
    "pattern = r'\\s'\n",
    "\n",
    "# Check whether each artist's name is comprised of more than one word\n",
    "for artist in artist_list:\n",
    "    if re.search(pattern, artist):\n",
    "        multiple_words_dict[artist] = 'TRUE'\n",
    "    else:\n",
    "        multiple_words_dict[artist] = 'FALSE'\n",
    "\n",
    "# Print the dictionary indicating whether each artist's name is comprised of more than one word\n",
    "print(\"Artist Name Composition:\")\n",
    "for artist, is_multiple_words in multiple_words_dict.items():\n",
    "    print(artist, \":\", is_multiple_words)"
   ]
  },
  {
   "cell_type": "markdown",
   "id": "329ad1d6",
   "metadata": {},
   "source": [
    "### Comments\n",
    "\n",
    "This code is used to check if an artist's name is comprised of more than one word by determining if there is whitespace within the name using a regular expression pattern. Here's an elaboration of each part of the code:\n",
    "\n",
    "1. `multiple_words_dict = {}`: Initializes an empty dictionary called `multiple_words_dict` that will store whether each artist's name is comprised of more than one word.\n",
    "\n",
    "2. `pattern = r'\\s'`: Defines a regular expression pattern that matches whitespace characters (spaces) in a string. This pattern is used to identify if an artist's name contains more than one word.\n",
    "\n",
    "3. Checking whether each artist's name is comprised of more than one word:\n",
    "    - The code iterates over each artist in the `artist_list`.\n",
    "    - It uses `re.search(pattern, artist)` to check if the regular expression pattern matches any whitespace in the artist's name.\n",
    "    - If a match is found, the artist's name is considered to be comprised of more than one word and the value 'TRUE' is stored in the `multiple_words_dict` dictionary for that artist. Otherwise, 'FALSE' is stored.\n",
    "\n",
    "4. Printing the dictionary with artist names and their composition:\n",
    "    - The code then prints the dictionary indicating whether each artist's name is comprised of more than one word.\n",
    "    - It iterates over the `multiple_words_dict` dictionary and prints each artist's name along with whether it is comprised of more than one word (either 'TRUE' or 'FALSE').\n",
    "\n",
    "In summary, this code uses a regular expression pattern to check if each artist's name in the `artist_list` is comprised of more than one word. It stores this information in a dictionary and then prints the results. This code can be helpful in analyzing and categorizing artist names based on their composition."
   ]
  },
  {
   "cell_type": "markdown",
   "id": "1c71017f",
   "metadata": {},
   "source": [
    "***"
   ]
  },
  {
   "cell_type": "markdown",
   "id": "2a417872",
   "metadata": {},
   "source": [
    "### Task - 5\n",
    "\n",
    "Consider the character string ‘FIdD1E7h=’. We would like to match this string using the regular expression \n",
    "\n",
    "“\\D[a-zA-Z]*[^,]=”, \n",
    "\n",
    "but the regular expression fails to match the text string. Explain why the regular expression fails and correct it.\n",
    "\n",
    "### Solution\n",
    "\n",
    "The regular expression \"\\D[a-zA-Z]*[^,]=\" fails to match the character string 'FIdD1E7h=' because of the position of the negated character class \"[^,]=\" at the end of the expression. The negated character class matches any character that is not a comma, which would prevent it from matching the equal sign at the end of the string 'FIdD1E7h='. \n",
    "\n",
    "To correct the regular expression to match the provided string 'FIdD1E7h=', you can modify it as follows:\n",
    "\n",
    "The correct regular expression should be: \"\\D[a-zA-Z0-9]*=$\"\n",
    "\n",
    "Explanation of the corrected regular expression:\n",
    "\n",
    "1. \"\\D\" matches any non-digit character, so it would match 'F' at the beginning of the string.\n",
    "   \n",
    "2. \"[a-zA-Z0-9]*\" matches zero or more occurrences of alphabetic characters and digits, allowing it to match 'IdD1E7h' in the provided string.\n",
    "   \n",
    "3. \"=\" matches the equal sign at the end of the string, ensuring that the regular expression matches the whole string 'FIdD1E7h='.\n",
    "\n",
    "With this corrected regular expression, the provided string 'FIdD1E7h=' would be successfully matched."
   ]
  },
  {
   "cell_type": "markdown",
   "id": "e3dad49b",
   "metadata": {},
   "source": [
    "***"
   ]
  },
  {
   "cell_type": "markdown",
   "id": "8c326e5f",
   "metadata": {},
   "source": [
    "### Task - 6\n",
    "\n",
    "Consider the character string “The spy was carefully disguised”. We would like to extract only the adverb ‘carefully’ from the string. To do so we write the regular expression “$*\\s+ly\\w+”. Explain why this fails and correct the expression.\n",
    "\n",
    "### Solution\n",
    "\n"
   ]
  },
  {
   "cell_type": "raw",
   "id": "1326a205",
   "metadata": {},
   "source": [
    "The regular expression \"$*\\s+ly\\w+\" fails to extract the adverb \"carefully\" from the string \"The spy was carefully disguised\" because of the following reasons:\n",
    "\n",
    "1. \"$*\" matches zero or more occurrences of the dollar sign \"$\", which is not present in the string. This part of the expression is not required for extracting the adverb.\n",
    "\n",
    "2. \"\\s+\" matches one or more whitespace characters, which is correct for finding the space between words.\n",
    "\n",
    "3. \"ly\" is attempting to match the characters 'ly' in the adverb \"carefully\", which is correct.\n",
    "\n",
    "4. \"\\w+\" matches one or more word characters, which would include letters, digits, and underscore. This part of the expression may match more characters than just the adverb \"carefully\".\n",
    "\n",
    "To correct the regular expression to extract only the adverb \"carefully\" from the provided string, you can modify it as follows:\n",
    "\n",
    "The correct regular expression should be: \"\\b\\w*ly\\b\"\n",
    "\n",
    "Explanation of the corrected regular expression:\n",
    "\n",
    "1. \"\\b\" specifies a word boundary, ensuring we match the whole word \"carefully\" correctly.\n",
    "\n",
    "2. \"\\w*\" matches zero or more word characters, which corresponds to all the characters in the word \"carefully\".\n",
    "\n",
    "3. \"ly\" matches the characters 'ly' in the adverb \"carefully\".\n",
    "\n",
    "4. \"\\b\" specifies another word boundary to ensure the end of the word is matched correctly.\n",
    "\n",
    "With this corrected regular expression, only the adverb \"carefully\" will be extracted from the provided string \"The spy was carefully disguised\"."
   ]
  },
  {
   "cell_type": "code",
   "execution_count": null,
   "id": "dbe25a5b",
   "metadata": {},
   "outputs": [],
   "source": []
  }
 ],
 "metadata": {
  "kernelspec": {
   "display_name": "Python 3 (ipykernel)",
   "language": "python",
   "name": "python3"
  },
  "language_info": {
   "codemirror_mode": {
    "name": "ipython",
    "version": 3
   },
   "file_extension": ".py",
   "mimetype": "text/x-python",
   "name": "python",
   "nbconvert_exporter": "python",
   "pygments_lexer": "ipython3",
   "version": "3.11.5"
  }
 },
 "nbformat": 4,
 "nbformat_minor": 5
}
