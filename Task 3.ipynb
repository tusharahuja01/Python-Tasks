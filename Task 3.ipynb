{
 "cells": [
  {
   "cell_type": "markdown",
   "id": "f06168e4",
   "metadata": {},
   "source": [
    "# DAV 5400"
   ]
  },
  {
   "cell_type": "markdown",
   "id": "8aedc46f",
   "metadata": {},
   "source": [
    "# Task - 1\n",
    "\n",
    "Write a Python/NumPy code block that finds the distinct array items that exist in either array a or array b but which do not appear within both arrays:\n",
    "\n",
    "a = np.array([1, 2, 3, 2, 3, 4, 3, 4, 5, 6])\n",
    "\n",
    "b = np.array([7, 2, 10, 2, 7, 4, 9, 4, 9, 8])\n",
    "\n",
    "For example, if a 2 is found in both array a and array b, your output should not include a 2. Furthermore, the content of the output should be comprised solely of unique data values\n",
    "\n",
    "### Comments\n",
    "\n",
    "* This code is using the numpy library to create two arrays a and b. Array a contains the elements [1, 2, 3, 2, 3, 4, 3, 4, 5, 6] and array b contains the elements [7, 2, 10, 2, 7, 4, 9, 4, 9, 8].\n",
    "\n",
    "* The code then converts the arrays a and b into sets unique_a and unique_b respectively. This is done to find the elements that are unique to each array, meaning they are present in one set but not in the other.\n",
    "\n",
    "* Finally, the code calculates the symmetric difference between unique_a and unique_b, which is the set of elements that are present in one set, but not in both sets. The result is stored in a list and returned.\n",
    "\n",
    "* In this example, the symmetric difference between unique_a and unique_b would be [1, 3, 5, 6, 7, 8, 9, 10] since they are only present in either unique_a or unique_b, but not in both sets."
   ]
  },
  {
   "cell_type": "code",
   "execution_count": 3,
   "id": "918576b6",
   "metadata": {},
   "outputs": [
    {
     "data": {
      "text/plain": [
       "[1, 3, 5, 6, 7, 8, 9, 10]"
      ]
     },
     "execution_count": 3,
     "metadata": {},
     "output_type": "execute_result"
    }
   ],
   "source": [
    "import numpy as np\n",
    "\n",
    "a = np.array([1, 2, 3, 2, 3, 4, 3, 4, 5, 6])\n",
    "b = np.array([7, 2, 10, 2, 7, 4, 9, 4, 9, 8])\n",
    "\n",
    "#converts the arrays a and b into sets unique_a and unique_b respectively\n",
    "unique_a = set(a)\n",
    "unique_b = set(b)\n",
    "\n",
    "#code calculates the symmetric difference between unique_a and unique_b, which is the set of elements that are present in one set, but not in both sets. \n",
    "result = list(unique_a.symmetric_difference(unique_b))\n",
    "\n",
    "result"
   ]
  },
  {
   "attachments": {
    "image.png": {
     "image/png": "[encoded data removed]"
    }
   },
   "cell_type": "markdown",
   "id": "36d0557f",
   "metadata": {},
   "source": [
    "# Task - 2\n",
    "\n",
    "Create the following 4x5 array using knowledge you have of Python’s / NumPy’s sequencing functionality so that you do not need to explicitly key in every integer value.\n",
    "\n",
    "![image.png](attachment:image.png)\n",
    "\n",
    "\n",
    "### Comments\n",
    "\n",
    "* This code creates a 1D NumPy array called array_1d with values ranging from 1 to 20. Then, it reshapes the array_1d into a 4x5 array called array_4x5. \n",
    "\n",
    "* The array_4x5.T at the end of the code snippet transposes the 4x5 array array_4x5, which means it switches the rows and columns of the array. This will result in a new array where the rows of the original array become columns and the columns become rows.\n",
    "\n",
    "* So, the output of array_4x5.T will be a 5x4 array where the values are transposed from the original 4x5 array.\n",
    "\n"
   ]
  },
  {
   "cell_type": "code",
   "execution_count": 4,
   "id": "f955b4a4",
   "metadata": {},
   "outputs": [
    {
     "data": {
      "text/plain": [
       "array([[ 1,  5,  9, 13, 17],\n",
       "       [ 2,  6, 10, 14, 18],\n",
       "       [ 3,  7, 11, 15, 19],\n",
       "       [ 4,  8, 12, 16, 20]])"
      ]
     },
     "execution_count": 4,
     "metadata": {},
     "output_type": "execute_result"
    }
   ],
   "source": [
    "import numpy as np\n",
    "\n",
    "# Create a 1D array with values 1 to 20\n",
    "array_1d = np.arange(1, 21)\n",
    "\n",
    "# Reshape the 1D array to a 4x5 array\n",
    "array_4x5 = array_1d.reshape(5, 4)\n",
    "\n",
    "array_4x5.T"
   ]
  },
  {
   "cell_type": "markdown",
   "id": "429c2fe3",
   "metadata": {},
   "source": [
    "# Task - 3\n",
    "\n",
    "You are given the following two arrays:\n",
    "\n",
    "a = np.array([12, 5, 7, 15, 3, 1, 8])\n",
    "\n",
    "b = np.array([14, 6, 3, 11, 19, 12, 5, 3, 4])\n",
    "\n",
    "Write a Python/Numpy code block that adds to array a any items that are present in array b but not already present within array a.\n",
    "\n",
    "### Comments\n",
    "\n",
    "* This code creates two NumPy arrays \"a\" and \"b\" and then concatenates the elements of array \"b\" that are not already present in array \"a\" to array \"a\". \n",
    "\n",
    "* First, the arrays \"a\" and \"b\" are initialized with the values [12, 5, 7, 15, 3, 1, 8] and [14, 6, 3, 11, 19, 12, 5, 3, 4] respectively. \n",
    "\n",
    "* Then, the np.setdiff1d(b, a) function is used to find the set difference of arrays \"b\" and \"a\", i.e., it returns the elements in \"b\" that are not in \"a\". In this case, it returns [14, 6, 11, 19, 4].\n",
    "\n",
    "* Finally, the np.concatenate((a, np.setdiff1d(b, a))) function is used to concatenate array \"a\" and the set difference of \"b\" and \"a\", resulting in a new array \"a\" with the elements [12, 5, 7, 15, 3, 1, 8, 14, 6, 11, 19, 4] and stores it back in the variable \"a\".\n",
    "\n",
    "* Therefore, the output of the code will be the updated array \"a\" with the concatenated elements from array \"b\" that were not present in array \"a\"."
   ]
  },
  {
   "cell_type": "code",
   "execution_count": 6,
   "id": "aadec7b2",
   "metadata": {},
   "outputs": [
    {
     "data": {
      "text/plain": [
       "array([12,  5,  7, 15,  3,  1,  8,  4,  6, 11, 14, 19])"
      ]
     },
     "execution_count": 6,
     "metadata": {},
     "output_type": "execute_result"
    }
   ],
   "source": [
    "import numpy as np\n",
    "\n",
    "a = np.array([12, 5, 7, 15, 3, 1, 8])\n",
    "b = np.array([14, 6, 3, 11, 19, 12, 5, 3, 4])\n",
    "\n",
    "#the np.setdiff1d(b, a) function is used to find the set difference of arrays \"b\" and \"a\"\n",
    "#the np.concatenate((a, np.setdiff1d(b, a))) function is used to concatenate array \"a\" and the set difference of \"b\" and \"a\", resulting in a new array \"a\" \n",
    "a = np.concatenate((a, np.setdiff1d(b, a)))\n",
    "\n",
    "a"
   ]
  },
  {
   "cell_type": "markdown",
   "id": "0876e5e9",
   "metadata": {},
   "source": [
    "# Task - 4\n",
    "\n",
    "The process of transforming a multidimensional array into a unidimensional array is referred to as “flattening”. Transform the 4x5 array shown above in Problem 2 into a unidimensional array such that the sequence of values contained within the array is as follows: 1, 2, 3, 4, 5, 6, 7, 8, 9, 10, 11, 12, 13, 14, 15, 16, 17, 18, 19, 20.\n",
    "\n",
    "### Comments\n",
    "\n",
    "This code uses the numpy library to manipulate arrays. \n",
    "\n",
    "* `import numpy as np` - This line imports the numpy library under the alias `np`.\n",
    "\n",
    "* `array_2d = array_4x5` - This line assigns a 4x5 array (presumably defined elsewhere in the code) to the variable `array_2d`.\n",
    "\n",
    "* `array_1d = array_2d.flatten()` - This line flattens the 2D array `array_2d` into a 1D array and stores it in the variable `array_1d`.\n",
    "\n",
    "* `print(array_1d)` - This line prints the flattened 1D array to the console.\n",
    "\n",
    "In summary, this code takes a 2D array, flattens it into a 1D array using the `flatten()` method, and then prints the flattened array."
   ]
  },
  {
   "cell_type": "code",
   "execution_count": 7,
   "id": "5e9dbe52",
   "metadata": {},
   "outputs": [
    {
     "data": {
      "text/plain": [
       "array([ 1,  2,  3,  4,  5,  6,  7,  8,  9, 10, 11, 12, 13, 14, 15, 16, 17,\n",
       "       18, 19, 20])"
      ]
     },
     "execution_count": 7,
     "metadata": {},
     "output_type": "execute_result"
    }
   ],
   "source": [
    "import numpy as np\n",
    "\n",
    "# Given 4x5 array\n",
    "array_2d = array_4x5\n",
    "\n",
    "# Flatten the array\n",
    "array_1d = array_2d.flatten()\n",
    "\n",
    "# Print the flattened unidimensional array\n",
    "array_1d"
   ]
  },
  {
   "cell_type": "markdown",
   "id": "9e448750",
   "metadata": {},
   "source": [
    "## Task - 5\n",
    "\n",
    "For this problem you will load a small data set to your online GitHub repository and then read it into a NumPy 2D array. You will then use the content that NumPy array to answer a series of analytical questions.\n",
    "\n",
    "The original source of the data set contains an overview of its content:\n",
    "https://data.cityofnewyork.us/Environment/Water-Consumption-In-The-New-York-City/ia2d-e54m\n",
    "\n",
    "Scroll down to the bottom of that page to access an interactive data viewer that includes the column headings for the data. Once you are comfortable in your understanding of the various data attributes, get started on the assignment as follows:\n",
    "\n",
    "1) Load the provided M3_Data.csv file to your online DAV 5400 Github Repository.\n",
    "\n",
    "2) Then, from within your M3 Assignment Jupyter Notebook, read the data set from your Github repository and load it into a Pandas dataframe using the code snippet provided below. ** Please note that you will need to replace the ‘link_to_raw_copy of data file in your Github Repository’ placeholder shown below with a link to the “raw” version of the file you pushed to your online GitHub repository. **\n",
    "\n",
    "Copy the following small Python code snippet into your Jupyter Notebook:\n",
    "____________________________________________\n",
    "\n",
    "* import pandas\n",
    "* import numpy as np\n",
    "\n",
    "* np.set_printoptions(suppress = True)\n",
    "\n",
    "* nyc_water = pandas.read_csv(‘link_to_raw_copy of data file in your Github Repository').to_numpy()\n",
    "\n",
    "* type(nyc_water)\n",
    "____________________________________________\n",
    "\n",
    "This code will read the contents of the provided data file into a NumPy ndarray object. Execute the code within your Jupyter Notebook. If successful, the output of the type(nyc_water) function should be: numpy.ndarray\n",
    "\n",
    "Using the nyc_water array you’ve created, answer the following questions using NumPy’s indexing, slicing, methods, and functions.\n",
    "\n",
    "### Part - A\n",
    "\n",
    "Which year had the maximum per capita daily water consumption ?\n",
    "\n",
    "### Comments\n",
    "\n",
    "* The code reads an NYC water dataset from a CSV file using Pandas' read_csv function to create a DataFrame and then converts this DataFrame into a NumPy array using to_numpy() function. \n",
    "\n",
    "* It then finds the index of the maximum value in the 4th column (3rd index) of the NumPy array (nyc_water) using np.argmax() function and store it in max_consumption_index.\n",
    "\n",
    "* It uses the obtained max_consumption_index to find the year corresponding to the maximum per capita daily water consumption.\n",
    "\n",
    "* Finally, it prints the output statement displaying the year with the maximum per capita daily water consumption after converting it from float to int for better readability.\n",
    "\n",
    "In simple terms, the code reads the water consumption data for NYC, identifies the year with the highest per capita daily water consumption, and then displays that year as output."
   ]
  },
  {
   "cell_type": "code",
   "execution_count": 8,
   "id": "69d0db15",
   "metadata": {},
   "outputs": [
    {
     "name": "stdout",
     "output_type": "stream",
     "text": [
      "The year with the maximum per capita daily water consumption was: 1979\n"
     ]
    }
   ],
   "source": [
    "import numpy as np\n",
    "import pandas as pandas\n",
    "\n",
    "nyc_water = pandas.read_csv('https://raw.githubusercontent.com/tusharahuja01/DAV-5400/main/M3_Data.csv').to_numpy()\n",
    "\n",
    "max_consumption_index = np.argmax(nyc_water[:, 3])\n",
    "year_max_consumption = nyc_water[max_consumption_index, 0]\n",
    "\n",
    "print(\"The year with the maximum per capita daily water consumption was:\", int(year_max_consumption))"
   ]
  },
  {
   "cell_type": "markdown",
   "id": "0863ef2f",
   "metadata": {},
   "source": [
    "### Part - B\n",
    "\n",
    "Add a new column to the Numpy array containing the annual change in the population of the city from year to year. (HINT: Your new column should include the calculation of a data value for every year represented within the data set except for the first year, which should contain a data value of ‘N/A’)\n",
    "\n",
    "### Comments\n",
    "\n",
    "This code snippet is manipulating a two-dimensional numpy array representing data about the population and water consumption in New York City. Here is an explanation of what each part of the code is doing:\n",
    "\n",
    "* `population_column = nyc_water[:, 1]`: This line extracts the second column (index 1) from the `nyc_water` array and assigns it to the variable `population_column`.\n",
    "\n",
    "* `annual_change_column = np.insert(np.diff(population_column).astype('str'), 0, 'N/A')`: This line calculates the annual population change by taking the difference between consecutive elements of the `population_column`, converting the differences to strings, and inserting 'N/A' as the first element to maintain alignment. The resulting array is stored in `annual_change_column`.\n",
    "\n",
    "* `nyc_water_chng = np.column_stack((nyc_water, annual_change_column))`: This line creates a new array `nyc_water_chng` by adding the `annual_change_column` as a new column to the original `nyc_water` array using `np.column_stack`.\n",
    "\n",
    "* `print(nyc_water_chng)`: Finally, this line prints the modified array `nyc_water_chng` which now includes the annual population change column.\n",
    "\n",
    "In summary, this code snippet effectively calculates the annual population change in New York City and appends it as a new column to the original data array."
   ]
  },
  {
   "cell_type": "code",
   "execution_count": 14,
   "id": "c5bd6de5",
   "metadata": {},
   "outputs": [
    {
     "name": "stdout",
     "output_type": "stream",
     "text": [
      "[['1979.0' '7102100.0' '1512.0' '213.0' 'N/A']\n",
      " ['1980.0' '7071639.0' '1506.0' '213.0' '-30461.0']\n",
      " ['1981.0' '7089241.0' '1309.0' '185.0' '17602.0']\n",
      " ['1982.0' '7109105.0' '1382.0' '194.0' '19864.0']\n",
      " ['1983.0' '7181224.0' '1424.0' '198.0' '72119.0']\n",
      " ['1984.0' '7234514.0' '1465.0' '203.0' '53290.0']\n",
      " ['1985.0' '7274054.0' '1326.0' '182.0' '39540.0']\n",
      " ['1986.0' '7319246.0' '1351.0' '185.0' '45192.0']\n",
      " ['1987.0' '7342476.0' '1447.0' '197.0' '23230.0']\n",
      " ['1988.0' '7353719.0' '1484.0' '202.0' '11243.0']\n",
      " ['1989.0' '7344175.0' '1402.0' '191.0' '-9544.0']\n",
      " ['1990.0' '7335650.0' '1424.0' '194.0' '-8525.0']\n",
      " ['1991.0' '7374501.0' '1469.0' '199.0' '38851.0']\n",
      " ['1992.0' '7428944.0' '1369.0' '184.0' '54443.0']\n",
      " ['1993.0' '7506166.0' '1368.5' '182.0' '77222.0']\n",
      " ['1994.0' '7570458.0' '1357.7' '179.0' '64292.0']\n",
      " ['1995.0' '7633040.0' '1325.7' '174.0' '62582.0']\n",
      " ['1996.0' '7697812.0' '1297.9' '169.0' '64772.0']\n",
      " ['1997.0' '7773443.0' '1205.5' '155.0' '75631.0']\n",
      " ['1998.0' '7858259.0' '1219.5' '155.0' '84816.0']\n",
      " ['1999.0' '7947660.0' '1237.2' '156.0' '89401.0']\n",
      " ['2000.0' '8008278.0' '1240.4' '155.0' '60618.0']\n",
      " ['2001.0' '8024963.5' '1184.0' '148.0' '16685.5']\n",
      " ['2002.0' '8041649.0' '1135.6' '141.0' '16685.5']\n",
      " ['2003.0' '8058334.5' '1093.7' '136.0' '16685.5']\n",
      " ['2004.0' '8075020.0' '1099.5' '136.0' '16685.5']\n",
      " ['2005.0' '8091705.5' '1138.0' '141.0' '16685.5']\n",
      " ['2006.0' '8108391.0' '1069.0' '132.0' '16685.5']\n",
      " ['2007.0' '8125076.5' '1114.0' '137.0' '16685.5']\n",
      " ['2008.0' '8141762.0' '1098.0' '135.0' '16685.5']\n",
      " ['2009.0' '8158447.5' '1007.5' '123.0' '16685.5']\n",
      " ['2010.0' '8175133.0' '1039.0' '127.0' '16685.5']\n",
      " ['2011.0' '8272963.0' '1021.0' '123.0' '97830.0']\n",
      " ['2012.0' '8348032.0' '1009.1' '121.0' '75069.0']\n",
      " ['2013.0' '8398739.0' '1006.1' '120.0' '50707.0']\n",
      " ['2014.0' '8437387.0' '996.0' '118.0' '38648.0']\n",
      " ['2015.0' '8468181.0' '1009.0' '119.0' '30794.0']\n",
      " ['2016.0' '8475976.0' '1002.0' '118.0' '7795.0']\n",
      " ['2017.0' '8438271.0' '990.2' '117.0' '-37705.0']\n",
      " ['2018.0' '8398748.0' '1007.5' '120.0' '-39523.0']\n",
      " ['2019.0' '8336817.0' '987.4' '118.0' '-61931.0']]\n"
     ]
    }
   ],
   "source": [
    "population_column = nyc_water[:, 1]\n",
    "\n",
    "# Create a new column for annual population change\n",
    "annual_change_column = np.insert(np.diff(population_column).astype('str'), 0, 'N/A')\n",
    "\n",
    "\n",
    "# This line creates a new array nyc_water_chng by adding the annual_change_column as a new column to the original nyc_water array using np.column_stack.\n",
    "nyc_water_chng = np.column_stack((nyc_water, annual_change_column))\n",
    "\n",
    "# Display the modified array\n",
    "print(nyc_water_chng)\n"
   ]
  },
  {
   "cell_type": "markdown",
   "id": "f9ee7d4e",
   "metadata": {},
   "source": [
    "### Part - C\n",
    "\n",
    "What is the median and variance of the population of the city during the time period represented within the data set?\n",
    "\n",
    "### Comments\n",
    "\n",
    "* This code extracts the population data from a dataset called `nyc_water` and stores it in a variable called `population`. It then calculates the median and variance of the population data using numpy functions. The median population value is assigned to a variable called `median_population` and the variance of the population data is assigned to a variable called `variance_population`.\n",
    "\n",
    "* Lastly, the code prints out the calculated values for the median population and the variance of the population data rounded to 2 decimal places."
   ]
  },
  {
   "cell_type": "code",
   "execution_count": 6,
   "id": "5d50347f",
   "metadata": {},
   "outputs": [
    {
     "name": "stdout",
     "output_type": "stream",
     "text": [
      "Median population: 7947660.0\n",
      "Variance of population: 214014109798.73\n"
     ]
    }
   ],
   "source": [
    "# calculate median and variance of population\n",
    "population = nyc_water[:, 1]\n",
    "\n",
    "#This code extracts the population data from a dataset called nyc_water and stores it in a variable called population. It then calculates the median and variance of the population data using numpy functions. The median population value is assigned to a variable called median_population and the variance of the population data is assigned to a variable called variance_population.\n",
    "median_population = np.median(population)\n",
    "variance_population = np.var(population)\n",
    "\n",
    "print(\"Median population:\", round(median_population,2))\n",
    "print(\"Variance of population:\", round(variance_population,2))\n"
   ]
  },
  {
   "cell_type": "markdown",
   "id": "a8e4464b",
   "metadata": {},
   "source": [
    "### Part - D\n",
    "\n",
    "What was the average annual change in the population of the city ?\n",
    "\n",
    "### Comments\n",
    "\n",
    "* This code is calculating the average annual change in population using data from a variable called `nyc_water_chng`. \n",
    "\n",
    "* First, it extracts the population change data from the 5th column of the `nyc_water_chng` variable and stores it in a new variable called `population_change`.\n",
    "\n",
    "* Next, it calculates the average of the population change values starting from the second element (index 1) of the `population_change` array using the `np.mean` function. \n",
    "\n",
    "* Finally, it prints out the rounded value of the average annual change in population using the `print` statement. \n",
    "\n",
    "Overall, this code snippet is taking a specific dataset, calculating the annual population changes, and then finding the average of those values."
   ]
  },
  {
   "cell_type": "code",
   "execution_count": 17,
   "id": "924b74ce",
   "metadata": {},
   "outputs": [
    {
     "name": "stdout",
     "output_type": "stream",
     "text": [
      "Average annual change in population: 30867.92\n"
     ]
    }
   ],
   "source": [
    "#First, it extracts the population change data from the 5th column of the nyc_water_chng variable and stores it in a new variable called population_change.\n",
    "population_change = nyc_water_chng[:, 4]\n",
    "\n",
    "#Next, it calculates the average of the population change values starting from the second element (index 1) of the population_change array using the np.mean function.\n",
    "average_population_change = np.mean(population_change[1:].astype(float))\n",
    "\n",
    "#prints out the rounded value of the average annual change in population\n",
    "print(\"Average annual change in population:\", round(average_population_change,2))"
   ]
  },
  {
   "cell_type": "code",
   "execution_count": null,
   "id": "83e3b901",
   "metadata": {},
   "outputs": [],
   "source": []
  }
 ],
 "metadata": {
  "kernelspec": {
   "display_name": "Python 3 (ipykernel)",
   "language": "python",
   "name": "python3"
  },
  "language_info": {
   "codemirror_mode": {
    "name": "ipython",
    "version": 3
   },
   "file_extension": ".py",
   "mimetype": "text/x-python",
   "name": "python",
   "nbconvert_exporter": "python",
   "pygments_lexer": "ipython3",
   "version": "3.11.5"
  }
 },
 "nbformat": 4,
 "nbformat_minor": 5
}
