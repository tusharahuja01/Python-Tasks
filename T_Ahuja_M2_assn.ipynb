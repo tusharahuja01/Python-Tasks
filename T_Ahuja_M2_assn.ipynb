{
 "cells": [
  {
   "cell_type": "markdown",
   "id": "bdda726d",
   "metadata": {},
   "source": [
    "# Task - 1\n",
    "\n",
    "Your first task is to find the list index values of each hospital patient having a “blood pressure” reading that is greater than 140. However, you are required to do this using a list comprehension instead of a basic for or while loop. The list comprehension should create a new list containing your result. Be sure to print your results to the screen.\n",
    "\n",
    "### Comments\n",
    "\n",
    "Assuming you have a list named Blood_Pressure that represents the blood pressure readings of patients, you can use a list comprehension to find the index values of patients with a blood pressure reading greater than 140. Here's an example:\n",
    "\n",
    "In this example, the range function is used to get the index and value from the Blood_Pressure list. The list comprehension then filters the pairs based on the condition value > 140, and it collects the indices of patients with high blood pressure into a new list called a. Finally, the result is printed to the screen."
   ]
  },
  {
   "cell_type": "code",
   "execution_count": 5,
   "id": "90f017f4",
   "metadata": {},
   "outputs": [
    {
     "name": "stdout",
     "output_type": "stream",
     "text": [
      "Patients with blood pressure greater than 140 are at indices: [0, 1, 14, 15, 21, 27, 28, 37, 39]\n"
     ]
    }
   ],
   "source": [
    "import csv\n",
    "# Open and read a .txt file containing data.\n",
    "with open('D:\\M1_Data.txt') as csvfile:\n",
    "    readCSV = csv.reader(csvfile)\n",
    "    \n",
    "    # Initialize empty lists for each attribute (e.g., diagnosis, age, gender)\n",
    "    Diagnosis=[]\n",
    "    Age=[]\n",
    "    Gender=[]\n",
    "    Chest_Pain=[]\n",
    "    Blood_Pressure=[]\n",
    "    Cholestrol=[]\n",
    "    for row in readCSV:\n",
    "            \n",
    "            #  Append attributes to their respective lists.  \n",
    "            Diagnosis.append(row[0])\n",
    "            Age.append(int(row[1]))\n",
    "            Gender.append(row[2])\n",
    "            Chest_Pain.append(row[3])\n",
    "            Blood_Pressure.append(int(row[4]))\n",
    "            Cholestrol.append(int(row[5]))\n",
    "            \n",
    "            # Using list comprehension to find the index values of patients with blood pressure > 140\n",
    "            a=[x for x in range(len(Blood_Pressure)) if Blood_Pressure[x] > 140]\n",
    "            \n",
    "# Printing the results\n",
    "print(\"Patients with blood pressure greater than 140 are at indices:\", a)"
   ]
  },
  {
   "cell_type": "markdown",
   "id": "44330381",
   "metadata": {},
   "source": [
    "# Task - 2\n",
    "\n",
    "Your second task is to find the \"pain type\" value for each hospital patient having a \"blood pressure\" value that is greater than 140 using a list comprehension instead of a basic for or while loop. The list comprehension should create a new list containing your findings. Be sure to print your results to the screen.\n",
    "\n",
    "### Comments\n",
    "\n",
    "You have three lists as made in first code, one representing blood pressure readings (Blood_Pressure) and another representing pain types (Chest_Pain), you can use a list comprehension to find the pain type for each patient with a blood pressure reading greater than 140. Here's an example:\n",
    "\n",
    "In this example, the list comprehension iterates through the pairs of index and value obtained using zip (dicts_list). It filters the pairs based on the condition value > 140 and collects the corresponding pain types into a new list called pain_types. Finally, the result is printed to the screen."
   ]
  },
  {
   "cell_type": "code",
   "execution_count": 11,
   "id": "e2b6c8e3",
   "metadata": {},
   "outputs": [
    {
     "name": "stdout",
     "output_type": "stream",
     "text": [
      "Pain types for patients with blood pressure greater than 140 are: ['TYPICAL_ANGINA', 'ASYMPTOMATIC', 'NON_ANGINAL', 'NON_ANGINAL', 'TYPICAL_ANGINA', 'TYPICAL_ANGINA', 'ASYMPTOMATIC', 'ASYMPTOMATIC', 'NON_ANGINAL']\n"
     ]
    }
   ],
   "source": [
    "A = ['Chest_Pain', 'Blood_Pressure', 'Gender']\n",
    "B = [Chest_Pain, Blood_Pressure, Gender]\n",
    "dicts_list = [dict(zip(A, x)) for x in zip(*B)]\n",
    "\n",
    "# Using list comprehension to find the \"pain type\" for patients with blood pressure > 140\n",
    "pain_types = [patient[\"Chest_Pain\"] for patient in dicts_list if patient[\"Blood_Pressure\"] > 140]\n",
    "\n",
    "# Printing the results\n",
    "print(\"Pain types for patients with blood pressure greater than 140 are:\", pain_types)\n"
   ]
  },
  {
   "cell_type": "markdown",
   "id": "a168267e",
   "metadata": {},
   "source": [
    "# Task - 3\n",
    "\n",
    "Your third task is to find the index value for each hospital patient having a “gender” value of \"FEMALE\" and a “pain type” value that is not \"ASYMPTOMATIC using a list comprehension. The list comprehension should create a new list containing your findings. Be sure to print your results to the screen.\n",
    "\n",
    "### Comments\n",
    "\n",
    "You have two lists as made in first code , one representing gender (Gender) and another representing pain types (Chest_Pain), you can use a list comprehension to find the index value for each patient with a gender value of \"FEMALE\" and a pain type that is not \"ASYMPTOMATIC\". Here's an example:\n",
    "\n",
    "In this example, (Gender, Chest_Pain) is used to iterate through pairs of corresponding elements from both lists. The list comprehension filters the pairs based on the conditions gender == 'FEMALE' and pain_type != 'ASYMPTOMATIC' and collects the index values into a new list called Q. Finally, the result is printed to the screen."
   ]
  },
  {
   "cell_type": "code",
   "execution_count": 42,
   "id": "fee61f54",
   "metadata": {},
   "outputs": [
    {
     "name": "stdout",
     "output_type": "stream",
     "text": [
      "Indices for FEMALE patients with pain type not ASYMPTOMATIC are: [4, 11, 18, 21, 25, 26, 27, 30]\n"
     ]
    }
   ],
   "source": [
    "# Using list comprehension to find the index value for patients with gender \"FEMALE\" and pain type not \"ASYMPTOMATIC\"\n",
    "Q=[g for g in range(len(Gender)) if Gender[g]=='FEMALE' and Chest_Pain[g]!='ASYMPTOMATIC']\n",
    "\n",
    "# Printing the results\n",
    "print(\"Indices for FEMALE patients with pain type not ASYMPTOMATIC are:\", Q)"
   ]
  },
  {
   "cell_type": "markdown",
   "id": "95ac05ae",
   "metadata": {},
   "source": [
    "# Task - 4\n",
    "\n",
    "Nested List Comprehensions\n",
    "\n",
    "Consider the following list of lists:\n",
    "\n",
    "nlist = [ [2112, ‘YYZ’, 81], [1, 2, 3], [‘A’, ‘B’, ‘C’], [4, 5], [‘D’, ‘E’] ]\n",
    "\n",
    "If we wanted to extract each individual element of the component lists contained within nlist and add them to a new list, we could use a nested for loop similar to this:\n",
    "\n",
    "# --------\n",
    "\n",
    "flist = []\n",
    "\n",
    "for x in nlist:\n",
    "\n",
    "for y in x:\n",
    "\n",
    "flist.append(y)\n",
    "\n",
    "print(flist)\n",
    "\n",
    "# --------\n",
    "\n",
    "For your fourth task, implement this same logic using a list comprehension. Apply your listcomprehension to the nlist list of lists shown above. Be sure to print your newly created list to the screen\n",
    "\n",
    "\n",
    "### Comments\n",
    "\n",
    "In this nested list comprehension, the outer loop (for x in nlist) iterates over each sub-list in nlist, and the inner loop (for y in x) iterates over each element within the sub-list. The individual elements (y) are then added to the new list G. Finally, the result is printed to the screen."
   ]
  },
  {
   "cell_type": "code",
   "execution_count": 49,
   "id": "dc27cf99",
   "metadata": {},
   "outputs": [
    {
     "name": "stdout",
     "output_type": "stream",
     "text": [
      "Output: [2112, 'YYZ', 81, 1, 2, 3, 'A', 'B', 'C', 4, 5, 'D', 'E']\n"
     ]
    }
   ],
   "source": [
    "nlist = [[2112, 'YYZ', 81], [1, 2, 3], ['A', 'B', 'C'], [4, 5], ['D', 'E']]\n",
    "\n",
    "# Using list comprehension to flatten the nested list\n",
    "G = [y for x in nlist for y in x]\n",
    "\n",
    "# Printing the newly created list\n",
    "print('Output:',G)"
   ]
  },
  {
   "cell_type": "markdown",
   "id": "3cf10c97",
   "metadata": {},
   "source": [
    "# Task - 5\n",
    "\n",
    "Your fifth task is to create a user defined function that accepts as input one of the six hospital patient attribute lists as well as an integer value and returns a Python dict object. Remember: a Python dict object iscomprised of ‘key/value’ pairs. The integer value accepted as a parameter by your function will represent the exact number of items you are to use from the list for purposes of creating the new dict object. So for example, if your function was defined as:\n",
    "\n",
    "# --------\n",
    "def makedict(mylist, x):\n",
    "\n",
    "newdict = {}\n",
    "\n",
    " #your code goes here\n",
    " \n",
    "return(newdict)\n",
    "\n",
    "# --------\n",
    "\n",
    "you would take the first x items from mylist to create the new dict object. The key values you assign to the elements of the dict object should all be comprised of a combination of the word ‘KEY’ and the alphanumeric representation of the index value corresponding to the location of the item in the mylist object. So if you had 3 dict elements in total, the key values for those elements would be (‘KEY0’, ‘KEY1’, ‘KEY2’). If we apply this concept to the first four elements of our “type of chest pain” list we’d have a dict object that looks like this:\n",
    "\n",
    "First four elements of the type of chest pain list:\n",
    "\n",
    "['TYPICAL_ANGINA', 'ASYMPTOMATIC', 'ASYMPTOMATIC', 'NON_ANGINAL']\n",
    "\n",
    "New dict Object:\n",
    "\n",
    "{‘KEY0’ : ‘TYPICAL_ANGINA’, ‘KEY1’: ‘ASYMPTOMATIC’, ‘KEY2’: ‘ASYMPTOMATIC’, ‘KEY3’:‘'NON_ANGINAL’}\n",
    "\n",
    "Be sure to check that the integer value passed into your function does not exceed the length of the list parameters!\n",
    "\n",
    "### Comments\n",
    "\n",
    "This function takes a list (mylist) and an integer (x) as input parameters. It checks whether the provided integer value is within the range of the list length and then creates a new dictionary using the specified number of elements from the list with keys in the format 'KEY0', 'KEY1', and so on. The example usage demonstrates how to apply this function to the \"type of chest pain\" list."
   ]
  },
  {
   "cell_type": "code",
   "execution_count": 53,
   "id": "18e2be2b",
   "metadata": {},
   "outputs": [
    {
     "name": "stdout",
     "output_type": "stream",
     "text": [
      "Output: {'KEY0': 'TYPICAL_ANGINA', 'KEY1': 'ASYMPTOMATIC', 'KEY2': 'ASYMPTOMATIC', 'KEY3': 'NON_ANGINAL'}\n"
     ]
    }
   ],
   "source": [
    "def makedict(mylist, x):\n",
    "    \n",
    "    # creating a new dictionary using the specified number of elements from the list with keys in the format 'KEY0', 'KEY1'\n",
    "    \n",
    "    #new={'KEY': list[p] for p in range(x)}\n",
    "    new={'KEY'+str(i):mylist[i] for i in range(x)}\n",
    "    \n",
    "    return(new)\n",
    "\n",
    "# Printing the list with your own choice of input on x.\n",
    "x = 4\n",
    "print(\"Output:\", makedict(Chest_Pain,x))"
   ]
  },
  {
   "cell_type": "markdown",
   "id": "75e3cd4c",
   "metadata": {},
   "source": [
    "# Task - 6\n",
    "\n",
    "Using Your New Function\n",
    "\n",
    "Now that you have your reusable user-defined function, use it to create two new dict objects containing the first twelve elements of the ‘Age’ and ‘Diagnosis’ lists, respectively. Then, use these dict objects to tell us the Diagnosis and Age of the hospital patient identified by the ‘KEY10’ key value.\n",
    "\n",
    "### Comments\n",
    "\n",
    "You have 'Age' and 'Diagnosis' lists as made in first code, you can use the function to create dictionaries and then retrieve the values associated with the 'KEY10' key. Here's an example:\n",
    "\n",
    "In this example, the function is applied to create dictionaries for the 'n1' and 'n2' lists. Then, the values associated with 'KEY10' are retrieved from both dictionaries and printed to the screen."
   ]
  },
  {
   "cell_type": "code",
   "execution_count": 47,
   "id": "e67feafd",
   "metadata": {},
   "outputs": [
    {
     "name": "stdout",
     "output_type": "stream",
     "text": [
      "Output: (57, 'FALSE')\n"
     ]
    }
   ],
   "source": [
    "def func(c, d):\n",
    "    \n",
    "    # creating a new dictionary using the specified number of elements from the list with keys in the format.\n",
    "\n",
    "    n1={'KEY'+str(i):c[i] for i in range(12)}\n",
    "    n2={'KEY'+str(j):d[j] for j in range(12)}\n",
    "    \n",
    "    # Rretrieving the values associated with the 'KEY10' key \n",
    "    return(n1.get('KEY10'), n2.get('KEY10'))\n",
    "\n",
    "# Printing the result on the screen.\n",
    "print(\"Output:\", func(Age,Diagnosis))\n"
   ]
  }
 ],
 "metadata": {
  "kernelspec": {
   "display_name": "Python 3 (ipykernel)",
   "language": "python",
   "name": "python3"
  },
  "language_info": {
   "codemirror_mode": {
    "name": "ipython",
    "version": 3
   },
   "file_extension": ".py",
   "mimetype": "text/x-python",
   "name": "python",
   "nbconvert_exporter": "python",
   "pygments_lexer": "ipython3",
   "version": "3.11.5"
  }
 },
 "nbformat": 4,
 "nbformat_minor": 5
}
