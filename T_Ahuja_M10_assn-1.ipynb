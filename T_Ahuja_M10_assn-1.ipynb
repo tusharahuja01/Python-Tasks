{
 "cells": [
  {
   "cell_type": "markdown",
   "id": "b86ddc27",
   "metadata": {},
   "source": [
    "# DAV 5400 Module 10 Assignment  \n",
    "(Tidying and Reshaping Data)"
   ]
  },
  {
   "cell_type": "markdown",
   "id": "05c25fc5",
   "metadata": {},
   "source": [
    "**GitHub Repository URL** - https://raw.githubusercontent.com/tusharahuja01/DAV-5400/main/M10_Data.csv"
   ]
  },
  {
   "cell_type": "markdown",
   "id": "dbbd613a",
   "metadata": {},
   "source": [
    "## Reading Data from a CSV File on GitHub using pandas"
   ]
  },
  {
   "cell_type": "markdown",
   "id": "588dd908",
   "metadata": {},
   "source": [
    "To examine the data in the **'M10_Data.csv'** file, we first need to bring in the required libraries and load the data into a pandas DataFrame. Here's how we can begin:"
   ]
  },
  {
   "cell_type": "code",
   "execution_count": 123,
   "id": "a8b01631",
   "metadata": {},
   "outputs": [
    {
     "data": {
      "text/html": [
       "<div>\n",
       "<style scoped>\n",
       "    .dataframe tbody tr th:only-of-type {\n",
       "        vertical-align: middle;\n",
       "    }\n",
       "\n",
       "    .dataframe tbody tr th {\n",
       "        vertical-align: top;\n",
       "    }\n",
       "\n",
       "    .dataframe thead th {\n",
       "        text-align: right;\n",
       "    }\n",
       "</style>\n",
       "<table border=\"1\" class=\"dataframe\">\n",
       "  <thead>\n",
       "    <tr style=\"text-align: right;\">\n",
       "      <th></th>\n",
       "      <th>Month</th>\n",
       "      <th>Category</th>\n",
       "      <th>Caltex</th>\n",
       "      <th>Gulf</th>\n",
       "      <th>Mobil</th>\n",
       "    </tr>\n",
       "  </thead>\n",
       "  <tbody>\n",
       "    <tr>\n",
       "      <th>0</th>\n",
       "      <td>Open</td>\n",
       "      <td>Engine Oil</td>\n",
       "      <td>140 :  000</td>\n",
       "      <td>199 :  000</td>\n",
       "      <td>141 :  000</td>\n",
       "    </tr>\n",
       "    <tr>\n",
       "      <th>1</th>\n",
       "      <td>NaN</td>\n",
       "      <td>GearBox Oil</td>\n",
       "      <td>198 :  000</td>\n",
       "      <td>132 :  000</td>\n",
       "      <td>121 :  000</td>\n",
       "    </tr>\n",
       "    <tr>\n",
       "      <th>2</th>\n",
       "      <td>Jan</td>\n",
       "      <td>Engine Oil</td>\n",
       "      <td>170 :  103</td>\n",
       "      <td>194 :  132</td>\n",
       "      <td>109 :  127</td>\n",
       "    </tr>\n",
       "    <tr>\n",
       "      <th>3</th>\n",
       "      <td>NaN</td>\n",
       "      <td>GearBox Oil</td>\n",
       "      <td>132 :  106</td>\n",
       "      <td>125 :  105</td>\n",
       "      <td>191 :  100</td>\n",
       "    </tr>\n",
       "    <tr>\n",
       "      <th>4</th>\n",
       "      <td>Feb</td>\n",
       "      <td>Engine Oil</td>\n",
       "      <td>112 :  133</td>\n",
       "      <td>138 :  113</td>\n",
       "      <td>171 :  101</td>\n",
       "    </tr>\n",
       "  </tbody>\n",
       "</table>\n",
       "</div>"
      ],
      "text/plain": [
       "  Month     Category      Caltex        Gulf       Mobil\n",
       "0  Open   Engine Oil  140 :  000  199 :  000  141 :  000\n",
       "1   NaN  GearBox Oil  198 :  000  132 :  000  121 :  000\n",
       "2   Jan   Engine Oil  170 :  103  194 :  132  109 :  127\n",
       "3   NaN  GearBox Oil  132 :  106  125 :  105  191 :  100\n",
       "4   Feb   Engine Oil  112 :  133  138 :  113  171 :  101"
      ]
     },
     "execution_count": 123,
     "metadata": {},
     "output_type": "execute_result"
    }
   ],
   "source": [
    "import pandas as pd\n",
    "\n",
    "# Loading the data in a DataFrame\n",
    "df = pd.read_csv('https://raw.githubusercontent.com/tusharahuja01/DAV-5400/main/M10_Data.csv')\n",
    "\n",
    "# Displaying the first few rows of the data \n",
    "df.head()"
   ]
  },
  {
   "cell_type": "markdown",
   "id": "42105a23",
   "metadata": {},
   "source": [
    "After importing the necessary libraries, the **'M10_Data.csv'** file will be loaded into a pandas DataFrame called 'df'. This will allow you to take a quick look at the initial rows of data to understand its structure.\n",
    "\n",
    "Once the data is loaded, you can proceed with any required cleaning, transformation, or analysis steps based on your specific needs. Please let me know what you would like me to do with this data next."
   ]
  },
  {
   "cell_type": "markdown",
   "id": "399ad0c9",
   "metadata": {},
   "source": [
    "# Task - 1.1\n",
    "**Use your knowledge of combining and reshaping data in Pandas to tidy and transform/reshape\n",
    "the data contained within the dataframe. To get started, think about how you would want the data to appear if it were converted to “long” format, e.g., how would you define a “single observation” for the data shown in the graphic?; **How many key values are associated with each data value?; How many columns should your long format structure contain based on the information provided in the graphic shown above?; What would the column headings for the long structure be?**; etc. Use your answers to these questions to guide your reshaping/transformational work on the data. Your reshaping/transformational steps must include converting the above table to a “tidy” long format. Additional transformational steps (e.g., filling in missing data values, renaming columns, etc.) should be performed as needed to ensure that your data is, in fact, “tidy”.**"
   ]
  },
  {
   "cell_type": "markdown",
   "id": "1d8735b9",
   "metadata": {},
   "source": [
    "## Answer:"
   ]
  },
  {
   "cell_type": "markdown",
   "id": "80de6bdc",
   "metadata": {},
   "source": [
    "To reshape the data into a tidy \"long\" format, we need to think about how we want to define a single observation, we need to identify the key variables and the value variables. In this case, the key variables are \"Month\", \"Category\", and \"Supplier\" (inferred from the \"Caltex\", \"Gulf\", and \"Mobil\" columns), while the value variable is the number representing the purchases and consumption (e.g., \"purchased : consumed\").\n",
    "\n",
    "**Here's how we can reshape the data into a \"long\" format using pandas**\n",
    "\n",
    "1. Month (or \"Open\" for the starting inventory)\n",
    "2. Category (gearbox or engine)\n",
    "3. Supplier (Caltex, Gulf, or Mobil)\n",
    "4. Consumption (e.g., \"purchased : consumed\")\n",
    "\n",
    "**Additionally, there are two data values associated with each observation: (Consumption)**\n",
    "\n",
    "1. Purchased amount\n",
    "2. Consumed amount\n",
    "\n",
    "**Therefore, the long format structure should contain the following columns:**\n",
    "\n",
    "1. Month\n",
    "2. Category\n",
    "3. Supplier\n",
    "4. Purchased\n",
    "5. Consumed\n",
    "\n",
    "Here's how we can reshape the data into a long format and perform additional transformations to make it tidy:\n"
   ]
  },
  {
   "cell_type": "code",
   "execution_count": 124,
   "id": "d87880e0",
   "metadata": {},
   "outputs": [
    {
     "name": "stdout",
     "output_type": "stream",
     "text": [
      "(14, 5)\n"
     ]
    }
   ],
   "source": [
    "# Check the shape of the data\n",
    "print(df.shape)"
   ]
  },
  {
   "cell_type": "code",
   "execution_count": 125,
   "id": "5dc4a4f2",
   "metadata": {},
   "outputs": [
    {
     "name": "stdout",
     "output_type": "stream",
     "text": [
      "Index(['Month', 'Category', 'Caltex', 'Gulf', 'Mobil'], dtype='object')\n"
     ]
    }
   ],
   "source": [
    "# Check the columns of the data\n",
    "print(df.columns)"
   ]
  },
  {
   "cell_type": "code",
   "execution_count": 126,
   "id": "3435ff20",
   "metadata": {},
   "outputs": [
    {
     "name": "stdout",
     "output_type": "stream",
     "text": [
      "   Month     Category Supplier  Purchased  Consumed\n",
      "0   Open   Engine Oil   Caltex      140.0       0.0\n",
      "1   Open  GearBox Oil   Caltex      198.0       0.0\n",
      "2    Jan   Engine Oil   Caltex      170.0     103.0\n",
      "3    Jan  GearBox Oil   Caltex      132.0     106.0\n",
      "4    Feb   Engine Oil   Caltex      112.0     133.0\n",
      "5    Feb  GearBox Oil   Caltex      193.0     148.0\n",
      "6    Mar   Engine Oil   Caltex      184.0     100.0\n",
      "7    Mar  GearBox Oil   Caltex      138.0     121.0\n",
      "8    Apr   Engine Oil   Caltex      149.0     150.0\n",
      "9    Apr  GearBox Oil   Caltex      185.0     125.0\n",
      "10   May   Engine Oil   Caltex      170.0     139.0\n",
      "11   May  GearBox Oil   Caltex      168.0     117.0\n",
      "12   Jun   Engine Oil   Caltex      159.0     129.0\n",
      "13   Jun  GearBox Oil   Caltex      107.0     129.0\n",
      "14  Open   Engine Oil     Gulf      199.0       0.0\n",
      "15  Open  GearBox Oil     Gulf      132.0       0.0\n",
      "16   Jan   Engine Oil     Gulf      194.0     132.0\n",
      "17   Jan  GearBox Oil     Gulf      125.0     105.0\n",
      "18   Feb   Engine Oil     Gulf      138.0     113.0\n",
      "19   Feb  GearBox Oil     Gulf      199.0     119.0\n",
      "20   Mar   Engine Oil     Gulf      141.0     141.0\n",
      "21   Mar  GearBox Oil     Gulf      172.0     133.0\n",
      "22   Apr   Engine Oil     Gulf      117.0     118.0\n",
      "23   Apr  GearBox Oil     Gulf      191.0     133.0\n",
      "24   May   Engine Oil     Gulf      104.0     119.0\n",
      "25   May  GearBox Oil     Gulf      138.0     102.0\n",
      "26   Jun   Engine Oil     Gulf      170.0     138.0\n",
      "27   Jun  GearBox Oil     Gulf      195.0     141.0\n",
      "28  Open   Engine Oil    Mobil      141.0       0.0\n",
      "29  Open  GearBox Oil    Mobil      121.0       0.0\n",
      "30   Jan   Engine Oil    Mobil      109.0     127.0\n",
      "31   Jan  GearBox Oil    Mobil      191.0     100.0\n",
      "32   Feb   Engine Oil    Mobil      171.0     101.0\n",
      "33   Feb  GearBox Oil    Mobil      134.0     127.0\n",
      "34   Mar   Engine Oil    Mobil      114.0     108.0\n",
      "35   Mar  GearBox Oil    Mobil      193.0     115.0\n",
      "36   Apr   Engine Oil    Mobil      117.0     118.0\n",
      "37   Apr  GearBox Oil    Mobil      119.0     121.0\n",
      "38   May   Engine Oil    Mobil      200.0     117.0\n",
      "39   May  GearBox Oil    Mobil      121.0     146.0\n",
      "40   Jun   Engine Oil    Mobil      169.0     105.0\n",
      "41   Jun  GearBox Oil    Mobil      141.0     112.0\n"
     ]
    }
   ],
   "source": [
    "# Converting the DataFrame to a stacked/melted representation.\n",
    "melted = pd.melt(df, id_vars=['Month', 'Category'], value_vars=['Caltex', 'Gulf', 'Mobil'], var_name='Supplier', value_name='Value')\n",
    "\n",
    "# Separating the 'Value' column into separate 'Purchased' and 'Consumed' columns\n",
    "melted[['Purchased', 'Consumed']] = pd.DataFrame(melted['Value'].str.split(':').tolist(), dtype=float).values\n",
    "\n",
    "# Removing the original 'Value' column from axis\n",
    "melted = melted.drop('Value', axis=1)\n",
    "\n",
    "# Handle missing values by propagating the last valid observation forward\n",
    "data = melted.fillna(method='ffill')\n",
    "\n",
    "# Showing the result\n",
    "print(data)"
   ]
  },
  {
   "cell_type": "markdown",
   "id": "05b07fe7",
   "metadata": {},
   "source": [
    "**Here's what the code does:**\n",
    "\n",
    "1. Read the CSV file from the GitHub URL and store it in the df DataFrame.\n",
    "2. Use pd.melt to convert the DataFrame to long format. The id_vars are the columns that remain constant, and the value_vars are the columns that will be melted into rows. The var_name and value_name are the new column names for the melted data.\n",
    "3. Split the 'Value' column into 'Purchased' and 'Consumed' using str.split and convert the strings to floats.\n",
    "4. Drop the original 'Value' column as it is no longer needed.\n",
    "5. Fill in any missing values using fillna in dataframe 'data'.\n",
    "6. Print the transformed DataFrame."
   ]
  },
  {
   "cell_type": "markdown",
   "id": "d50ae2b6",
   "metadata": {},
   "source": [
    "**The resulting DataFrame will have the following columns:**\n",
    "\n",
    "* Month\n",
    "* Category\n",
    "* Supplier\n",
    "* Purchased\n",
    "* Consumed\n",
    "\n",
    "Each row represents a single observation with the key variables (\"Month\", \"Category\", \"Supplier\") and the value variables (\"Purchased\", \"Consumed\"). This is a tidy long format, where each column represents a distinct variable, and each row represents a single observation"
   ]
  },
  {
   "cell_type": "markdown",
   "id": "ff2427b6",
   "metadata": {},
   "source": [
    "# Task - 1.2\n",
    "\n",
    "**Using your reshaped/transformed data, perform analysis to answer the following questions:**\n"
   ]
  },
  {
   "cell_type": "markdown",
   "id": "2d991bfd",
   "metadata": {},
   "source": [
    "## Answer:\n"
   ]
  },
  {
   "cell_type": "markdown",
   "id": "2629a2ca",
   "metadata": {},
   "source": [
    "### 1. What was the amount of oil remaining at the end of the chronological period for each pair of oil types/brands?"
   ]
  },
  {
   "cell_type": "code",
   "execution_count": null,
   "id": "3dc046d9",
   "metadata": {},
   "outputs": [],
   "source": [
    "# We will group the data by 'Category' and 'Supplier' \n",
    "grouping = melted.groupby(['Category', 'Supplier'])"
   ]
  },
  {
   "cell_type": "markdown",
   "id": "85e5d34f",
   "metadata": {},
   "source": [
    "This line groups the melted DataFrame based on the combination of 'Category' and 'Supplier' columns. It creates a DataFrameGroupBy object grouped where each group contains rows with the same 'Category' and 'Supplier' values."
   ]
  },
  {
   "cell_type": "code",
   "execution_count": null,
   "id": "04b80268",
   "metadata": {},
   "outputs": [],
   "source": [
    "# Calculating the total amount left and taking the sum for each group\n",
    "amount_left = grouped[['Purchased', 'Consumed']].sum().reset_index()\n",
    "amount_left['Remaining_Amount'] = amount_left['Purchased'] - amount_left['Consumed']"
   ]
  },
  {
   "cell_type": "markdown",
   "id": "029edefd",
   "metadata": {},
   "source": [
    "* **grouped[['Purchased', 'Consumed']].sum():** This selects the 'Purchased' and 'Consumed' columns from the grouped data and calculates the sum of each column for every group.\n",
    "* **.reset_index():** This method converts the resulting DataFrame from the previous step into a regular DataFrame with a new index (0, 1, 2, ...) and the original group labels ('Category' and 'Supplier') as separate columns.\n",
    "* **amount_left['Remaining'] = amount_left['Purchased'] - amount_left['Consumed']:** This line creates a new column 'Remaining' in the amount_left DataFrame by subtracting the 'Consumed' column from the 'Purchased' column. This calculation gives the amount of oil remaining for each group.\n",
    "\n",
    "The purpose of this step is to calculate the amount left of oil at the end of the chronological period for each combination of 'Category' and 'Supplier'."
   ]
  },
  {
   "cell_type": "code",
   "execution_count": null,
   "id": "1681e0f4",
   "metadata": {},
   "outputs": [],
   "source": [
    "# Results Displayed\n",
    "print(\"Amount of oil remaining at the end of the chronological period:\")\n",
    "print(amount_left[['Category', 'Supplier', 'Purchased', 'Consumed', 'Remaining_Amount']])"
   ]
  },
  {
   "cell_type": "markdown",
   "id": "0737b174",
   "metadata": {},
   "source": [
    "This part of the code prints a header message and displays the amount_left DataFrame with the 'Category', 'Supplier', 'Purchased', 'Consumed', and 'Remaining_Amount' columns. This output shows the amount of oil remaining at the end of the chronological period for each pair of oil types/brands, along with the total purchased and consumed amounts.\n"
   ]
  },
  {
   "cell_type": "markdown",
   "id": "ea5107fb",
   "metadata": {},
   "source": [
    "##  Final Code"
   ]
  },
  {
   "cell_type": "code",
   "execution_count": 127,
   "id": "1d1719b4",
   "metadata": {},
   "outputs": [
    {
     "name": "stdout",
     "output_type": "stream",
     "text": [
      "Total Amount of oil remaining at the end of the chronological period is:\n",
      "\n",
      "      Category Supplier  Purchased  Consumed  Remaining_Amount\n",
      "0   Engine Oil   Caltex     1084.0     754.0             330.0\n",
      "1   Engine Oil     Gulf     1063.0     761.0             302.0\n",
      "2   Engine Oil    Mobil     1021.0     676.0             345.0\n",
      "3  GearBox Oil   Caltex     1121.0     746.0             375.0\n",
      "4  GearBox Oil     Gulf     1152.0     733.0             419.0\n",
      "5  GearBox Oil    Mobil     1020.0     721.0             299.0\n"
     ]
    }
   ],
   "source": [
    "# We will group the data by 'Category' and 'Supplier' \n",
    "grouping = melted.groupby(['Category', 'Supplier'])\n",
    "\n",
    "# Taking the sum for each group\n",
    "amount_left = grouping[['Purchased', 'Consumed']].sum().reset_index()\n",
    "\n",
    "# Calculating the total amount left\n",
    "# amount_left['Remaining_Amount'] = amount_left['Purchased'].sub(amount_left['Consumed'])\n",
    "amount_left['Remaining_Amount'] = amount_left['Purchased'] - amount_left['Consumed']\n",
    "\n",
    "# Results Displayed\n",
    "print(\"Total Amount of oil remaining at the end of the chronological period is:\\n\")\n",
    "print(amount_left[['Category', 'Supplier', 'Purchased', 'Consumed', 'Remaining_Amount']])"
   ]
  },
  {
   "cell_type": "markdown",
   "id": "916a6b9a",
   "metadata": {},
   "source": [
    "The code performs the necessary data manipulation and calculations to answer the question \"What was the amount of oil remaining at the end of the chronological period for each pair of oil types/brands?\" by grouping the data, summing the 'Purchased' and 'Consumed' values, and calculating the difference to find the 'Remaining' amount."
   ]
  },
  {
   "cell_type": "markdown",
   "id": "723fd7b0",
   "metadata": {},
   "source": [
    "### 2. At the end of the chronological period, what was the most consumed brand of oil for each of the two separate types of oil ?"
   ]
  },
  {
   "cell_type": "code",
   "execution_count": null,
   "id": "7e429b8d",
   "metadata": {},
   "outputs": [],
   "source": [
    "# Grouping the data by 'Category' and 'Supplier' columns, and doing sum of the 'Consumed' amounts\n",
    "consumed_amounts = melted.groupby(['Category', 'Supplier'])['Consumed'].sum().reset_index()\n"
   ]
  },
  {
   "cell_type": "markdown",
   "id": "996bb5f0",
   "metadata": {},
   "source": [
    "* **melted.groupby(['Category', 'Supplier'])['Consumed']:** This line groups the melted DataFrame by the combination of 'Category' and 'Supplier' columns, and then selects the 'Consumed' column.\n",
    "* **.sum():** This method calculates the sum of the 'Consumed' values for each group.\n",
    "* **.reset_index():** This method converts the resulting Series from the previous step into a DataFrame with a new index (0, 1, 2, ...) and the original group labels ('Category' and 'Supplier') as separate columns.\n",
    "\n",
    "The resulting consumed_amounts DataFrame contains the total 'Consumed' amount for each combination of 'Category' and 'Supplier'."
   ]
  },
  {
   "cell_type": "code",
   "execution_count": null,
   "id": "fa1319c3",
   "metadata": {},
   "outputs": [],
   "source": [
    "# Sorting the data by 'Category' (ascending order) and 'Consumed' (descending order) to get the most consumed brand\n",
    "most_consumed = consumed_amounts.sort_values(by=['Category']).sort_values(by=['Consumed'], ascending=False)"
   ]
  },
  {
   "cell_type": "markdown",
   "id": "395f1992",
   "metadata": {},
   "source": [
    "This line sorts the consumed_amounts DataFrame based on two criteria:\n",
    "\n",
    "* 'Category' in ascending order (to group the oil types together)\n",
    "* 'Consumed' in descending order (to place the most consumed brand at the top for each category)\n",
    "\n",
    "The sorted DataFrame is stored in the most_consumed variable."
   ]
  },
  {
   "cell_type": "code",
   "execution_count": null,
   "id": "e2ce6ebf",
   "metadata": {},
   "outputs": [],
   "source": [
    "# Displaying the result\n",
    "print(\"\\nThe Most consumed brand of oil for each type of supplier's are:\\n\")\n",
    "print(most_consumed.groupby('Category').head(1)[['Category', 'Supplier', 'Consumed']])"
   ]
  },
  {
   "cell_type": "markdown",
   "id": "4fcdcd5a",
   "metadata": {},
   "source": [
    "* **most_consumed.groupby('Category'):** This line groups the most_consumed DataFrame by the 'Category' column.\n",
    "* **.head(1):** This method selects the first row (the row with the largest 'Consumed' value) from each group.\n",
    "* **[['Category', 'Supplier', 'Consumed']]:** This selects the 'Category', 'Supplier', and 'Consumed' columns from the resulting DataFrame.\n",
    "\n",
    "The output shows the most consumed brand of oil for each type ('Category') by displaying the 'Category', 'Supplier', and 'Consumed' values for the brand with the highest consumption within each category."
   ]
  },
  {
   "cell_type": "markdown",
   "id": "3f8f5583",
   "metadata": {},
   "source": [
    "## Final Code"
   ]
  },
  {
   "cell_type": "code",
   "execution_count": 128,
   "id": "61e9f45c",
   "metadata": {},
   "outputs": [
    {
     "name": "stdout",
     "output_type": "stream",
     "text": [
      "The Most consumed brand of oil for each type of supplier's are:\n",
      "\n",
      "      Category Supplier  Consumed\n",
      "1   Engine Oil     Gulf     761.0\n",
      "3  GearBox Oil   Caltex     746.0\n"
     ]
    }
   ],
   "source": [
    "# Grouping the data by 'Category' and 'Supplier' columns, and taking sum of the 'Consumed' amounts\n",
    "consumed_amounts = melted.groupby(['Category', 'Supplier'])['Consumed'].sum().reset_index()\n",
    "\n",
    "# Sorting the data by 'Category' (ascending order) and 'Consumed' (descending order) to get the most consumed brand\n",
    "most_consumed = consumed_amounts.sort_values(by=['Category']).sort_values(by=['Consumed'], ascending=False)\n",
    "\n",
    "# Displaying the result\n",
    "print(\"The Most consumed brand of oil for each type of supplier's are:\\n\")\n",
    "print(most_consumed.groupby('Category').head(1)[['Category', 'Supplier', 'Consumed']])"
   ]
  },
  {
   "cell_type": "markdown",
   "id": "cb6eeb69",
   "metadata": {},
   "source": [
    "In summary, this code first calculates the total consumed amount for each combination of 'Category' and 'Supplier'. It then sorts the data by 'Category' and 'Consumed' (in descending order) to bring the most consumed brand for each category to the top. Finally, it displays the 'Category', 'Supplier', and 'Consumed' values for the most consumed brand within each category."
   ]
  },
  {
   "cell_type": "markdown",
   "id": "b4aa65a5",
   "metadata": {},
   "source": [
    "## Task - 1.3\n",
    "\n",
    "**Finally, given your “tidy” long format structure, describe what, if any, changes you would make to the visual presentation of the data if you were then asked to transform your “long” data back into a “wide” format: would you mimic the structure of the graphic shown above? If not, how might you transform your “long” data to “wide” format to make its “wide” presentation easier to understand and work with? Provide an example of your recommendation and explain your rationale for preferring your specific structure**"
   ]
  },
  {
   "cell_type": "markdown",
   "id": "a9c5f002",
   "metadata": {},
   "source": [
    "When transforming the \"long\" data back into a \"wide\" format, it's essential to consider how the wide format will be used and interpreted. Mimicking the structure of the original graphic might not always be the best approach, especially if the original format has limitations in terms of readability or ease of analysis.\n",
    "\n",
    "Here's a recommendation for transforming the \"long\" data into a \"wide\" format to improve its presentation and usability:\n",
    "\n",
    "1. Instead of having separate columns for each supplier (e.g., 'Caltex', 'Gulf', 'Mobil'), we can have one column for the supplier and another column for the oil type (e.g., 'Engine' and 'Gearbox').\n",
    "2. The values in the wide format will represent either the amount purchased or consumed for each supplier-oil type combination."
   ]
  },
  {
   "cell_type": "code",
   "execution_count": 129,
   "id": "4a451ed4",
   "metadata": {},
   "outputs": [
    {
     "name": "stdout",
     "output_type": "stream",
     "text": [
      "   Month Supplier  Consumed_Engine Oil  Consumed_GearBox Oil  \\\n",
      "0    Apr   Caltex                150.0                 125.0   \n",
      "1    Apr     Gulf                118.0                 133.0   \n",
      "2    Apr    Mobil                118.0                 121.0   \n",
      "3    Feb   Caltex                133.0                 148.0   \n",
      "4    Feb     Gulf                113.0                 119.0   \n",
      "5    Feb    Mobil                101.0                 127.0   \n",
      "6    Jan   Caltex                103.0                 106.0   \n",
      "7    Jan     Gulf                132.0                 105.0   \n",
      "8    Jan    Mobil                127.0                 100.0   \n",
      "9    Jun   Caltex                129.0                 129.0   \n",
      "10   Jun     Gulf                138.0                 141.0   \n",
      "11   Jun    Mobil                105.0                 112.0   \n",
      "12   Mar   Caltex                100.0                 121.0   \n",
      "13   Mar     Gulf                141.0                 133.0   \n",
      "14   Mar    Mobil                108.0                 115.0   \n",
      "15   May   Caltex                139.0                 117.0   \n",
      "16   May     Gulf                119.0                 102.0   \n",
      "17   May    Mobil                117.0                 146.0   \n",
      "18  Open   Caltex                  0.0                   0.0   \n",
      "19  Open     Gulf                  0.0                   0.0   \n",
      "20  Open    Mobil                  0.0                   0.0   \n",
      "\n",
      "    Purchased_Engine Oil  Purchased_GearBox Oil  \n",
      "0                  149.0                  185.0  \n",
      "1                  117.0                  191.0  \n",
      "2                  117.0                  119.0  \n",
      "3                  112.0                  193.0  \n",
      "4                  138.0                  199.0  \n",
      "5                  171.0                  134.0  \n",
      "6                  170.0                  132.0  \n",
      "7                  194.0                  125.0  \n",
      "8                  109.0                  191.0  \n",
      "9                  159.0                  107.0  \n",
      "10                 170.0                  195.0  \n",
      "11                 169.0                  141.0  \n",
      "12                 184.0                  138.0  \n",
      "13                 141.0                  172.0  \n",
      "14                 114.0                  193.0  \n",
      "15                 170.0                  168.0  \n",
      "16                 104.0                  138.0  \n",
      "17                 200.0                  121.0  \n",
      "18                 140.0                  198.0  \n",
      "19                 199.0                  132.0  \n",
      "20                 141.0                  121.0  \n"
     ]
    }
   ],
   "source": [
    "# Creating a pivot table so that we can transform the data into wide format\n",
    "wide_format = data.pivot_table(index=['Month', 'Supplier'], columns='Category', values=['Purchased', 'Consumed'], aggfunc='sum')\n",
    "\n",
    "# Flatten the column index (Multi-Level)\n",
    "wide_format.columns = ['%s_%s' % (col[0], col[1]) for col in wide_format.columns.values]\n",
    "\n",
    "# We will reset the index to make Month and Supplier as separate columns\n",
    "wide_format.reset_index(inplace=True)\n",
    "\n",
    "# Renaming the columns\n",
    "wide_format.rename(columns={'Purchased_Engine': 'Purchased_Engine',\n",
    "                             'Purchased_Gearbox': 'Purchased_Gearbox',\n",
    "                             'Purchased_Gearbox Oil': 'Purchased_Gearbox_Oil',\n",
    "                             'Consumed_Engine': 'Consumed_Engine',\n",
    "                             'Consumed_Gearbox': 'Consumed_Gearbox',\n",
    "                             'Consumed_Gearbox Oil': 'Consumed_Gearbox_Oil'},\n",
    "                   inplace=True)\n",
    "\n",
    "\n",
    "# Displaying the transformed wide_format data below\n",
    "print(wide_format)\n"
   ]
  },
  {
   "cell_type": "markdown",
   "id": "882598b7",
   "metadata": {},
   "source": [
    "**Rationale for preferring this structure:**\n",
    "\n",
    "* Simplicity: The structure is simpler, with fewer columns compared to mimicking the original graphic. It's easier to read and understand.\n",
    "* Flexibility: This structure allows for easier manipulation and analysis of the data. For example, it facilitates filtering, grouping, and aggregating based on either supplier or oil type.\n",
    "* Consistency: The structure maintains consistency in terms of column names and data representation, making it easier to work with programmatically.\n",
    "* Scalability: If there are additional suppliers or oil types in the future, this structure can easily accommodate them without the need for extensive modifications.\n",
    "\n",
    "Overall, transforming the \"long\" data into this \"wide\" format enhances its readability, usability, and flexibility for analysis."
   ]
  },
  {
   "cell_type": "markdown",
   "id": "7d11d8ae",
   "metadata": {},
   "source": [
    "## Another Method"
   ]
  },
  {
   "cell_type": "code",
   "execution_count": 130,
   "id": "3d841c9f",
   "metadata": {},
   "outputs": [
    {
     "name": "stdout",
     "output_type": "stream",
     "text": [
      "   Month Supplier  Engine Oil_Consumed  Engine Oil_Purchased\n",
      "0    Apr   Caltex                150.0                 149.0\n",
      "1    Apr     Gulf                118.0                 117.0\n",
      "2    Apr    Mobil                118.0                 117.0\n",
      "3    Feb   Caltex                133.0                 112.0\n",
      "4    Feb     Gulf                113.0                 138.0\n",
      "5    Feb    Mobil                101.0                 171.0\n",
      "6    Jan   Caltex                103.0                 170.0\n",
      "7    Jan     Gulf                132.0                 194.0\n",
      "8    Jan    Mobil                127.0                 109.0\n",
      "9    Jun   Caltex                129.0                 159.0\n",
      "10   Jun     Gulf                138.0                 170.0\n",
      "11   Jun    Mobil                105.0                 169.0\n",
      "12   Mar   Caltex                100.0                 184.0\n",
      "13   Mar     Gulf                141.0                 141.0\n",
      "14   Mar    Mobil                108.0                 114.0\n",
      "15   May   Caltex                139.0                 170.0\n",
      "16   May     Gulf                119.0                 104.0\n",
      "17   May    Mobil                117.0                 200.0\n",
      "18  Open   Caltex                  0.0                 140.0\n",
      "19  Open     Gulf                  0.0                 199.0\n",
      "20  Open    Mobil                  0.0                 141.0\n"
     ]
    }
   ],
   "source": [
    "# Create a pivot table to transform the data into wide format\n",
    "wide_format = melted.pivot_table(index=['Month', 'Supplier'], columns='Category', values=['Purchased', 'Consumed'], aggfunc='sum')\n",
    "\n",
    "# Flatten the multi-level column index\n",
    "wide_format.columns = [f'{col[1]}_{col[0]}' for col in wide_format.columns]\n",
    "\n",
    "\n",
    "# Reset index to make Month and Supplier as columns\n",
    "wide_format.reset_index(inplace=True)\n",
    "\n",
    "# Display the transformed wide format data\n",
    "print(wide_format)\n"
   ]
  },
  {
   "cell_type": "markdown",
   "id": "96804925",
   "metadata": {},
   "source": [
    "**NOTE :**\n",
    "\n",
    "The original code wide_format.columns = [f'{col[1]}_{col[0]}' for col in wide_format.columns] assumes that the multi-level column index has only two levels, where col[0] is the first level (e.g., 'Purchased' or 'Consumed'), and col[1] is the second level (e.g., 'Engine' or 'Gearbox'). However, when you have a third level ('Gearbox Oil'), this code will not work correctly.\n",
    "\n",
    "The updated code wide_format.columns = ['_'.join(col).strip() for col in wide_format.columns.values] joins all the levels of the column index with an underscore (_) and removes any leading/trailing whitespace using strip(). This way, it will handle multi-level column indexes with any number of levels."
   ]
  },
  {
   "cell_type": "code",
   "execution_count": 132,
   "id": "55c04965",
   "metadata": {},
   "outputs": [
    {
     "name": "stdout",
     "output_type": "stream",
     "text": [
      "   Month     Category  Consumed Caltex Engine Oil  \\\n",
      "0    Apr   Engine Oil                       150.0   \n",
      "1    Apr  GearBox Oil                         NaN   \n",
      "2    Feb   Engine Oil                       133.0   \n",
      "3    Feb  GearBox Oil                         NaN   \n",
      "4    Jan   Engine Oil                       103.0   \n",
      "5    Jan  GearBox Oil                         NaN   \n",
      "6    Jun   Engine Oil                       129.0   \n",
      "7    Jun  GearBox Oil                         NaN   \n",
      "8    Mar   Engine Oil                       100.0   \n",
      "9    Mar  GearBox Oil                         NaN   \n",
      "10   May   Engine Oil                       139.0   \n",
      "11   May  GearBox Oil                         NaN   \n",
      "12  Open   Engine Oil                         0.0   \n",
      "13  Open  GearBox Oil                         NaN   \n",
      "\n",
      "    Consumed Caltex GearBox Oil  Consumed Gulf Engine Oil  \\\n",
      "0                           NaN                     118.0   \n",
      "1                         125.0                       NaN   \n",
      "2                           NaN                     113.0   \n",
      "3                         148.0                       NaN   \n",
      "4                           NaN                     132.0   \n",
      "5                         106.0                       NaN   \n",
      "6                           NaN                     138.0   \n",
      "7                         129.0                       NaN   \n",
      "8                           NaN                     141.0   \n",
      "9                         121.0                       NaN   \n",
      "10                          NaN                     119.0   \n",
      "11                        117.0                       NaN   \n",
      "12                          NaN                       0.0   \n",
      "13                          0.0                       NaN   \n",
      "\n",
      "    Consumed Gulf GearBox Oil  Consumed Mobil Engine Oil  \\\n",
      "0                         NaN                      118.0   \n",
      "1                       133.0                        NaN   \n",
      "2                         NaN                      101.0   \n",
      "3                       119.0                        NaN   \n",
      "4                         NaN                      127.0   \n",
      "5                       105.0                        NaN   \n",
      "6                         NaN                      105.0   \n",
      "7                       141.0                        NaN   \n",
      "8                         NaN                      108.0   \n",
      "9                       133.0                        NaN   \n",
      "10                        NaN                      117.0   \n",
      "11                      102.0                        NaN   \n",
      "12                        NaN                        0.0   \n",
      "13                        0.0                        NaN   \n",
      "\n",
      "    Consumed Mobil GearBox Oil  Purchased Caltex Engine Oil  \\\n",
      "0                          NaN                        149.0   \n",
      "1                        121.0                          NaN   \n",
      "2                          NaN                        112.0   \n",
      "3                        127.0                          NaN   \n",
      "4                          NaN                        170.0   \n",
      "5                        100.0                          NaN   \n",
      "6                          NaN                        159.0   \n",
      "7                        112.0                          NaN   \n",
      "8                          NaN                        184.0   \n",
      "9                        115.0                          NaN   \n",
      "10                         NaN                        170.0   \n",
      "11                       146.0                          NaN   \n",
      "12                         NaN                        140.0   \n",
      "13                         0.0                          NaN   \n",
      "\n",
      "    Purchased Caltex GearBox Oil  Purchased Gulf Engine Oil  \\\n",
      "0                            NaN                      117.0   \n",
      "1                          185.0                        NaN   \n",
      "2                            NaN                      138.0   \n",
      "3                          193.0                        NaN   \n",
      "4                            NaN                      194.0   \n",
      "5                          132.0                        NaN   \n",
      "6                            NaN                      170.0   \n",
      "7                          107.0                        NaN   \n",
      "8                            NaN                      141.0   \n",
      "9                          138.0                        NaN   \n",
      "10                           NaN                      104.0   \n",
      "11                         168.0                        NaN   \n",
      "12                           NaN                      199.0   \n",
      "13                         198.0                        NaN   \n",
      "\n",
      "    Purchased Gulf GearBox Oil  Purchased Mobil Engine Oil  \\\n",
      "0                          NaN                       117.0   \n",
      "1                        191.0                         NaN   \n",
      "2                          NaN                       171.0   \n",
      "3                        199.0                         NaN   \n",
      "4                          NaN                       109.0   \n",
      "5                        125.0                         NaN   \n",
      "6                          NaN                       169.0   \n",
      "7                        195.0                         NaN   \n",
      "8                          NaN                       114.0   \n",
      "9                        172.0                         NaN   \n",
      "10                         NaN                       200.0   \n",
      "11                       138.0                         NaN   \n",
      "12                         NaN                       141.0   \n",
      "13                       132.0                         NaN   \n",
      "\n",
      "    Purchased Mobil GearBox Oil  \n",
      "0                           NaN  \n",
      "1                         119.0  \n",
      "2                           NaN  \n",
      "3                         134.0  \n",
      "4                           NaN  \n",
      "5                         191.0  \n",
      "6                           NaN  \n",
      "7                         141.0  \n",
      "8                           NaN  \n",
      "9                         193.0  \n",
      "10                          NaN  \n",
      "11                        121.0  \n",
      "12                          NaN  \n",
      "13                        121.0  \n"
     ]
    }
   ],
   "source": [
    "# Pivot the DataFrame to transform it back into a wide format\n",
    "wide_format_data = data.pivot_table(index=['Month', 'Category'], columns=['Supplier', 'Category'], values=['Purchased', 'Consumed'])\n",
    "\n",
    "# Flatten the multi-level columns\n",
    "\n",
    "wide_format_data.columns = [' '.join(col).strip() for col in wide_format_data.columns.values]\n",
    "# wide_format.columns = [col.replace(' ', '_') for col in wide_format.columns.values]\n",
    "\n",
    "# wide_format.columns = [''.join(c for c in col if c != ' ') for col in wide_format.columns.values]\n",
    "\n",
    "# Reset the index to make 'Month' and 'Category' as regular columns\n",
    "wide_format_data.reset_index(inplace=True)\n",
    "\n",
    "print(wide_format_data)"
   ]
  },
  {
   "cell_type": "code",
   "execution_count": null,
   "id": "667dfa20",
   "metadata": {},
   "outputs": [],
   "source": []
  }
 ],
 "metadata": {
  "kernelspec": {
   "display_name": "Python 3 (ipykernel)",
   "language": "python",
   "name": "python3"
  },
  "language_info": {
   "codemirror_mode": {
    "name": "ipython",
    "version": 3
   },
   "file_extension": ".py",
   "mimetype": "text/x-python",
   "name": "python",
   "nbconvert_exporter": "python",
   "pygments_lexer": "ipython3",
   "version": "3.11.5"
  }
 },
 "nbformat": 4,
 "nbformat_minor": 5
}
